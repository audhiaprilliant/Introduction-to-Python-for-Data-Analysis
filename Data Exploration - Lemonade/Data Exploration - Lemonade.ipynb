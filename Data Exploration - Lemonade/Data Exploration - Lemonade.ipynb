{
 "cells": [
  {
   "cell_type": "markdown",
   "metadata": {},
   "source": [
    "<h1>Data Exploration - Lemonade</h1>"
   ]
  },
  {
   "cell_type": "markdown",
   "metadata": {},
   "source": [
    "<h2>1 Import Libraries</h2>"
   ]
  },
  {
   "cell_type": "code",
   "execution_count": 1,
   "metadata": {
    "ExecuteTime": {
     "end_time": "2019-09-25T03:24:04.778513Z",
     "start_time": "2019-09-25T03:23:34.686892Z"
    },
    "collapsed": true
   },
   "outputs": [],
   "source": [
    "import pandas as pd               # Dataframe manipulation\n",
    "import numpy as np                # Mathematics operation\n",
    "from datetime import datetime     # Date time manipulation\n",
    "import matplotlib.pyplot as plt   # Data visualization\n",
    "from sklearn import preprocessing # Data preprocessing\n",
    "import re                         # Regular Expression"
   ]
  },
  {
   "cell_type": "markdown",
   "metadata": {},
   "source": [
    "<h2>2 Load the Data and Exploration</h2>"
   ]
  },
  {
   "cell_type": "code",
   "execution_count": 58,
   "metadata": {
    "ExecuteTime": {
     "end_time": "2019-09-25T03:29:42.955717Z",
     "start_time": "2019-09-25T03:29:42.941714Z"
    },
    "collapsed": true
   },
   "outputs": [],
   "source": [
    "data_lemon = pd.read_csv('Lemonade.csv')"
   ]
  },
  {
   "cell_type": "code",
   "execution_count": 3,
   "metadata": {
    "ExecuteTime": {
     "end_time": "2019-09-25T03:24:05.387506Z",
     "start_time": "2019-09-25T03:24:05.228506Z"
    }
   },
   "outputs": [
    {
     "data": {
      "text/html": [
       "<div>\n",
       "<style>\n",
       "    .dataframe thead tr:only-child th {\n",
       "        text-align: right;\n",
       "    }\n",
       "\n",
       "    .dataframe thead th {\n",
       "        text-align: left;\n",
       "    }\n",
       "\n",
       "    .dataframe tbody tr th {\n",
       "        vertical-align: top;\n",
       "    }\n",
       "</style>\n",
       "<table border=\"1\" class=\"dataframe\">\n",
       "  <thead>\n",
       "    <tr style=\"text-align: right;\">\n",
       "      <th></th>\n",
       "      <th>Date</th>\n",
       "      <th>Day</th>\n",
       "      <th>Temperature</th>\n",
       "      <th>Rainfall</th>\n",
       "      <th>Flyers</th>\n",
       "      <th>Price</th>\n",
       "      <th>Sales</th>\n",
       "    </tr>\n",
       "  </thead>\n",
       "  <tbody>\n",
       "    <tr>\n",
       "      <th>0</th>\n",
       "      <td>01/01/2017</td>\n",
       "      <td>Sunday</td>\n",
       "      <td>27.0</td>\n",
       "      <td>2.00</td>\n",
       "      <td>15</td>\n",
       "      <td>0.3</td>\n",
       "      <td>10</td>\n",
       "    </tr>\n",
       "    <tr>\n",
       "      <th>1</th>\n",
       "      <td>02/01/2017</td>\n",
       "      <td>Monday</td>\n",
       "      <td>28.9</td>\n",
       "      <td>1.33</td>\n",
       "      <td>15</td>\n",
       "      <td>0.3</td>\n",
       "      <td>13</td>\n",
       "    </tr>\n",
       "    <tr>\n",
       "      <th>2</th>\n",
       "      <td>03/01/2017</td>\n",
       "      <td>Tuesday</td>\n",
       "      <td>34.5</td>\n",
       "      <td>1.33</td>\n",
       "      <td>27</td>\n",
       "      <td>0.3</td>\n",
       "      <td>15</td>\n",
       "    </tr>\n",
       "    <tr>\n",
       "      <th>3</th>\n",
       "      <td>04/01/2017</td>\n",
       "      <td>Wednesday</td>\n",
       "      <td>44.1</td>\n",
       "      <td>1.05</td>\n",
       "      <td>28</td>\n",
       "      <td>0.3</td>\n",
       "      <td>17</td>\n",
       "    </tr>\n",
       "    <tr>\n",
       "      <th>4</th>\n",
       "      <td>05/01/2017</td>\n",
       "      <td>Thursday</td>\n",
       "      <td>42.4</td>\n",
       "      <td>1.00</td>\n",
       "      <td>33</td>\n",
       "      <td>0.3</td>\n",
       "      <td>18</td>\n",
       "    </tr>\n",
       "  </tbody>\n",
       "</table>\n",
       "</div>"
      ],
      "text/plain": [
       "         Date        Day  Temperature  Rainfall  Flyers  Price  Sales\n",
       "0  01/01/2017     Sunday         27.0      2.00      15    0.3     10\n",
       "1  02/01/2017     Monday         28.9      1.33      15    0.3     13\n",
       "2  03/01/2017    Tuesday         34.5      1.33      27    0.3     15\n",
       "3  04/01/2017  Wednesday         44.1      1.05      28    0.3     17\n",
       "4  05/01/2017   Thursday         42.4      1.00      33    0.3     18"
      ]
     },
     "execution_count": 3,
     "metadata": {},
     "output_type": "execute_result"
    }
   ],
   "source": [
    "data_lemon.head() # Show first data"
   ]
  },
  {
   "cell_type": "markdown",
   "metadata": {},
   "source": [
    "<h3>2.1 Data Structure and Summary</h3>"
   ]
  },
  {
   "cell_type": "code",
   "execution_count": 75,
   "metadata": {
    "ExecuteTime": {
     "end_time": "2019-09-25T03:45:49.068483Z",
     "start_time": "2019-09-25T03:45:49.046484Z"
    }
   },
   "outputs": [
    {
     "name": "stdout",
     "output_type": "stream",
     "text": [
      "<class 'pandas.core.frame.DataFrame'>\n",
      "RangeIndex: 365 entries, 0 to 364\n",
      "Data columns (total 7 columns):\n",
      "Date           365 non-null object\n",
      "Day            365 non-null object\n",
      "Temperature    365 non-null float64\n",
      "Rainfall       365 non-null float64\n",
      "Flyers         365 non-null int64\n",
      "Price          365 non-null float64\n",
      "Sales          365 non-null int64\n",
      "dtypes: float64(3), int64(2), object(2)\n",
      "memory usage: 20.0+ KB\n"
     ]
    }
   ],
   "source": [
    "data_lemon.info() # Data structure"
   ]
  },
  {
   "cell_type": "code",
   "execution_count": 73,
   "metadata": {
    "ExecuteTime": {
     "end_time": "2019-09-25T03:45:18.514719Z",
     "start_time": "2019-09-25T03:45:18.450718Z"
    }
   },
   "outputs": [
    {
     "data": {
      "text/html": [
       "<div>\n",
       "<style>\n",
       "    .dataframe thead tr:only-child th {\n",
       "        text-align: right;\n",
       "    }\n",
       "\n",
       "    .dataframe thead th {\n",
       "        text-align: left;\n",
       "    }\n",
       "\n",
       "    .dataframe tbody tr th {\n",
       "        vertical-align: top;\n",
       "    }\n",
       "</style>\n",
       "<table border=\"1\" class=\"dataframe\">\n",
       "  <thead>\n",
       "    <tr style=\"text-align: right;\">\n",
       "      <th></th>\n",
       "      <th>Temperature</th>\n",
       "      <th>Rainfall</th>\n",
       "      <th>Flyers</th>\n",
       "      <th>Price</th>\n",
       "      <th>Sales</th>\n",
       "    </tr>\n",
       "  </thead>\n",
       "  <tbody>\n",
       "    <tr>\n",
       "      <th>count</th>\n",
       "      <td>365.000000</td>\n",
       "      <td>365.000000</td>\n",
       "      <td>365.000000</td>\n",
       "      <td>365.000000</td>\n",
       "      <td>365.000000</td>\n",
       "    </tr>\n",
       "    <tr>\n",
       "      <th>mean</th>\n",
       "      <td>0.519718</td>\n",
       "      <td>0.826603</td>\n",
       "      <td>40.284932</td>\n",
       "      <td>0.333973</td>\n",
       "      <td>25.323288</td>\n",
       "    </tr>\n",
       "    <tr>\n",
       "      <th>std</th>\n",
       "      <td>0.184468</td>\n",
       "      <td>0.273171</td>\n",
       "      <td>13.178651</td>\n",
       "      <td>0.075206</td>\n",
       "      <td>6.893589</td>\n",
       "    </tr>\n",
       "    <tr>\n",
       "      <th>min</th>\n",
       "      <td>0.000000</td>\n",
       "      <td>0.470000</td>\n",
       "      <td>9.000000</td>\n",
       "      <td>0.300000</td>\n",
       "      <td>7.000000</td>\n",
       "    </tr>\n",
       "    <tr>\n",
       "      <th>25%</th>\n",
       "      <td>0.394077</td>\n",
       "      <td>0.650000</td>\n",
       "      <td>31.000000</td>\n",
       "      <td>0.300000</td>\n",
       "      <td>20.000000</td>\n",
       "    </tr>\n",
       "    <tr>\n",
       "      <th>50%</th>\n",
       "      <td>0.523918</td>\n",
       "      <td>0.740000</td>\n",
       "      <td>39.000000</td>\n",
       "      <td>0.300000</td>\n",
       "      <td>25.000000</td>\n",
       "    </tr>\n",
       "    <tr>\n",
       "      <th>75%</th>\n",
       "      <td>0.640091</td>\n",
       "      <td>0.910000</td>\n",
       "      <td>49.000000</td>\n",
       "      <td>0.300000</td>\n",
       "      <td>30.000000</td>\n",
       "    </tr>\n",
       "    <tr>\n",
       "      <th>max</th>\n",
       "      <td>1.000000</td>\n",
       "      <td>2.500000</td>\n",
       "      <td>80.000000</td>\n",
       "      <td>0.500000</td>\n",
       "      <td>43.000000</td>\n",
       "    </tr>\n",
       "  </tbody>\n",
       "</table>\n",
       "</div>"
      ],
      "text/plain": [
       "       Temperature    Rainfall      Flyers       Price       Sales\n",
       "count   365.000000  365.000000  365.000000  365.000000  365.000000\n",
       "mean      0.519718    0.826603   40.284932    0.333973   25.323288\n",
       "std       0.184468    0.273171   13.178651    0.075206    6.893589\n",
       "min       0.000000    0.470000    9.000000    0.300000    7.000000\n",
       "25%       0.394077    0.650000   31.000000    0.300000   20.000000\n",
       "50%       0.523918    0.740000   39.000000    0.300000   25.000000\n",
       "75%       0.640091    0.910000   49.000000    0.300000   30.000000\n",
       "max       1.000000    2.500000   80.000000    0.500000   43.000000"
      ]
     },
     "execution_count": 73,
     "metadata": {},
     "output_type": "execute_result"
    }
   ],
   "source": [
    "data_lemon.describe() # Summary of statistics"
   ]
  },
  {
   "cell_type": "code",
   "execution_count": 79,
   "metadata": {
    "ExecuteTime": {
     "end_time": "2019-09-25T03:49:50.797387Z",
     "start_time": "2019-09-25T03:49:50.484349Z"
    }
   },
   "outputs": [
    {
     "data": {
      "text/html": [
       "<div>\n",
       "<style>\n",
       "    .dataframe thead tr:only-child th {\n",
       "        text-align: right;\n",
       "    }\n",
       "\n",
       "    .dataframe thead th {\n",
       "        text-align: left;\n",
       "    }\n",
       "\n",
       "    .dataframe tbody tr th {\n",
       "        vertical-align: top;\n",
       "    }\n",
       "</style>\n",
       "<table border=\"1\" class=\"dataframe\">\n",
       "  <thead>\n",
       "    <tr>\n",
       "      <th></th>\n",
       "      <th colspan=\"8\" halign=\"left\">Temperature</th>\n",
       "      <th colspan=\"2\" halign=\"left\">Rainfall</th>\n",
       "      <th>...</th>\n",
       "      <th colspan=\"2\" halign=\"left\">Price</th>\n",
       "      <th colspan=\"8\" halign=\"left\">Sales</th>\n",
       "    </tr>\n",
       "    <tr>\n",
       "      <th></th>\n",
       "      <th>count</th>\n",
       "      <th>mean</th>\n",
       "      <th>std</th>\n",
       "      <th>min</th>\n",
       "      <th>25%</th>\n",
       "      <th>50%</th>\n",
       "      <th>75%</th>\n",
       "      <th>max</th>\n",
       "      <th>count</th>\n",
       "      <th>mean</th>\n",
       "      <th>...</th>\n",
       "      <th>75%</th>\n",
       "      <th>max</th>\n",
       "      <th>count</th>\n",
       "      <th>mean</th>\n",
       "      <th>std</th>\n",
       "      <th>min</th>\n",
       "      <th>25%</th>\n",
       "      <th>50%</th>\n",
       "      <th>75%</th>\n",
       "      <th>max</th>\n",
       "    </tr>\n",
       "  </thead>\n",
       "  <tbody>\n",
       "    <tr>\n",
       "      <th>0</th>\n",
       "      <td>52.0</td>\n",
       "      <td>0.524312</td>\n",
       "      <td>0.184333</td>\n",
       "      <td>0.116173</td>\n",
       "      <td>0.400057</td>\n",
       "      <td>0.528474</td>\n",
       "      <td>0.638667</td>\n",
       "      <td>0.958998</td>\n",
       "      <td>52.0</td>\n",
       "      <td>0.817115</td>\n",
       "      <td>...</td>\n",
       "      <td>0.3</td>\n",
       "      <td>0.5</td>\n",
       "      <td>52.0</td>\n",
       "      <td>25.384615</td>\n",
       "      <td>7.010227</td>\n",
       "      <td>11.0</td>\n",
       "      <td>21.00</td>\n",
       "      <td>25.5</td>\n",
       "      <td>29.25</td>\n",
       "      <td>41.0</td>\n",
       "    </tr>\n",
       "    <tr>\n",
       "      <th>1</th>\n",
       "      <td>52.0</td>\n",
       "      <td>0.521509</td>\n",
       "      <td>0.194984</td>\n",
       "      <td>0.157175</td>\n",
       "      <td>0.389806</td>\n",
       "      <td>0.518793</td>\n",
       "      <td>0.641230</td>\n",
       "      <td>0.996583</td>\n",
       "      <td>52.0</td>\n",
       "      <td>0.823462</td>\n",
       "      <td>...</td>\n",
       "      <td>0.3</td>\n",
       "      <td>0.5</td>\n",
       "      <td>52.0</td>\n",
       "      <td>25.461538</td>\n",
       "      <td>7.127581</td>\n",
       "      <td>12.0</td>\n",
       "      <td>20.75</td>\n",
       "      <td>25.0</td>\n",
       "      <td>30.00</td>\n",
       "      <td>42.0</td>\n",
       "    </tr>\n",
       "    <tr>\n",
       "      <th>2</th>\n",
       "      <td>52.0</td>\n",
       "      <td>0.521991</td>\n",
       "      <td>0.191609</td>\n",
       "      <td>0.179954</td>\n",
       "      <td>0.382688</td>\n",
       "      <td>0.527904</td>\n",
       "      <td>0.625285</td>\n",
       "      <td>1.000000</td>\n",
       "      <td>52.0</td>\n",
       "      <td>0.823077</td>\n",
       "      <td>...</td>\n",
       "      <td>0.3</td>\n",
       "      <td>0.5</td>\n",
       "      <td>52.0</td>\n",
       "      <td>25.346154</td>\n",
       "      <td>7.221658</td>\n",
       "      <td>13.0</td>\n",
       "      <td>19.75</td>\n",
       "      <td>25.0</td>\n",
       "      <td>30.00</td>\n",
       "      <td>43.0</td>\n",
       "    </tr>\n",
       "    <tr>\n",
       "      <th>3</th>\n",
       "      <td>53.0</td>\n",
       "      <td>0.508768</td>\n",
       "      <td>0.194853</td>\n",
       "      <td>0.000000</td>\n",
       "      <td>0.394077</td>\n",
       "      <td>0.523918</td>\n",
       "      <td>0.644647</td>\n",
       "      <td>0.891800</td>\n",
       "      <td>53.0</td>\n",
       "      <td>0.873585</td>\n",
       "      <td>...</td>\n",
       "      <td>0.3</td>\n",
       "      <td>0.5</td>\n",
       "      <td>53.0</td>\n",
       "      <td>24.830189</td>\n",
       "      <td>7.394738</td>\n",
       "      <td>7.0</td>\n",
       "      <td>19.00</td>\n",
       "      <td>25.0</td>\n",
       "      <td>29.00</td>\n",
       "      <td>38.0</td>\n",
       "    </tr>\n",
       "    <tr>\n",
       "      <th>4</th>\n",
       "      <td>52.0</td>\n",
       "      <td>0.524203</td>\n",
       "      <td>0.178309</td>\n",
       "      <td>0.191344</td>\n",
       "      <td>0.406036</td>\n",
       "      <td>0.515376</td>\n",
       "      <td>0.641230</td>\n",
       "      <td>0.943052</td>\n",
       "      <td>52.0</td>\n",
       "      <td>0.812500</td>\n",
       "      <td>...</td>\n",
       "      <td>0.3</td>\n",
       "      <td>0.5</td>\n",
       "      <td>52.0</td>\n",
       "      <td>25.673077</td>\n",
       "      <td>6.729278</td>\n",
       "      <td>13.0</td>\n",
       "      <td>21.00</td>\n",
       "      <td>25.0</td>\n",
       "      <td>30.00</td>\n",
       "      <td>43.0</td>\n",
       "    </tr>\n",
       "    <tr>\n",
       "      <th>5</th>\n",
       "      <td>52.0</td>\n",
       "      <td>0.510754</td>\n",
       "      <td>0.187908</td>\n",
       "      <td>0.078588</td>\n",
       "      <td>0.416002</td>\n",
       "      <td>0.522210</td>\n",
       "      <td>0.648633</td>\n",
       "      <td>0.958998</td>\n",
       "      <td>52.0</td>\n",
       "      <td>0.829423</td>\n",
       "      <td>...</td>\n",
       "      <td>0.3</td>\n",
       "      <td>0.5</td>\n",
       "      <td>52.0</td>\n",
       "      <td>25.134615</td>\n",
       "      <td>6.709750</td>\n",
       "      <td>10.0</td>\n",
       "      <td>21.00</td>\n",
       "      <td>25.0</td>\n",
       "      <td>30.00</td>\n",
       "      <td>41.0</td>\n",
       "    </tr>\n",
       "    <tr>\n",
       "      <th>6</th>\n",
       "      <td>52.0</td>\n",
       "      <td>0.526700</td>\n",
       "      <td>0.167437</td>\n",
       "      <td>0.194761</td>\n",
       "      <td>0.413724</td>\n",
       "      <td>0.534169</td>\n",
       "      <td>0.638667</td>\n",
       "      <td>0.902050</td>\n",
       "      <td>52.0</td>\n",
       "      <td>0.806154</td>\n",
       "      <td>...</td>\n",
       "      <td>0.3</td>\n",
       "      <td>0.5</td>\n",
       "      <td>52.0</td>\n",
       "      <td>25.442308</td>\n",
       "      <td>6.369084</td>\n",
       "      <td>12.0</td>\n",
       "      <td>20.00</td>\n",
       "      <td>25.0</td>\n",
       "      <td>30.00</td>\n",
       "      <td>41.0</td>\n",
       "    </tr>\n",
       "  </tbody>\n",
       "</table>\n",
       "<p>7 rows × 40 columns</p>\n",
       "</div>"
      ],
      "text/plain": [
       "  Temperature                                                              \\\n",
       "        count      mean       std       min       25%       50%       75%   \n",
       "0        52.0  0.524312  0.184333  0.116173  0.400057  0.528474  0.638667   \n",
       "1        52.0  0.521509  0.194984  0.157175  0.389806  0.518793  0.641230   \n",
       "2        52.0  0.521991  0.191609  0.179954  0.382688  0.527904  0.625285   \n",
       "3        53.0  0.508768  0.194853  0.000000  0.394077  0.523918  0.644647   \n",
       "4        52.0  0.524203  0.178309  0.191344  0.406036  0.515376  0.641230   \n",
       "5        52.0  0.510754  0.187908  0.078588  0.416002  0.522210  0.648633   \n",
       "6        52.0  0.526700  0.167437  0.194761  0.413724  0.534169  0.638667   \n",
       "\n",
       "            Rainfall            ...  Price      Sales                       \\\n",
       "        max    count      mean  ...    75%  max count       mean       std   \n",
       "0  0.958998     52.0  0.817115  ...    0.3  0.5  52.0  25.384615  7.010227   \n",
       "1  0.996583     52.0  0.823462  ...    0.3  0.5  52.0  25.461538  7.127581   \n",
       "2  1.000000     52.0  0.823077  ...    0.3  0.5  52.0  25.346154  7.221658   \n",
       "3  0.891800     53.0  0.873585  ...    0.3  0.5  53.0  24.830189  7.394738   \n",
       "4  0.943052     52.0  0.812500  ...    0.3  0.5  52.0  25.673077  6.729278   \n",
       "5  0.958998     52.0  0.829423  ...    0.3  0.5  52.0  25.134615  6.709750   \n",
       "6  0.902050     52.0  0.806154  ...    0.3  0.5  52.0  25.442308  6.369084   \n",
       "\n",
       "                                   \n",
       "    min    25%   50%    75%   max  \n",
       "0  11.0  21.00  25.5  29.25  41.0  \n",
       "1  12.0  20.75  25.0  30.00  42.0  \n",
       "2  13.0  19.75  25.0  30.00  43.0  \n",
       "3   7.0  19.00  25.0  29.00  38.0  \n",
       "4  13.0  21.00  25.0  30.00  43.0  \n",
       "5  10.0  21.00  25.0  30.00  41.0  \n",
       "6  12.0  20.00  25.0  30.00  41.0  \n",
       "\n",
       "[7 rows x 40 columns]"
      ]
     },
     "execution_count": 79,
     "metadata": {},
     "output_type": "execute_result"
    }
   ],
   "source": [
    "# Summary of Statistics each categories\n",
    "data_lemon.groupby(['Day'],as_index = False).describe()"
   ]
  },
  {
   "cell_type": "markdown",
   "metadata": {},
   "source": [
    "<h3>2.2 Column Type Manipulation - Date</h3>"
   ]
  },
  {
   "cell_type": "code",
   "execution_count": 6,
   "metadata": {
    "ExecuteTime": {
     "end_time": "2019-09-25T03:24:06.055499Z",
     "start_time": "2019-09-25T03:24:05.947498Z"
    }
   },
   "outputs": [
    {
     "data": {
      "text/plain": [
       "0    01/01/2017\n",
       "1    02/01/2017\n",
       "2    03/01/2017\n",
       "3    04/01/2017\n",
       "4    05/01/2017\n",
       "Name: Date, dtype: object"
      ]
     },
     "execution_count": 6,
     "metadata": {},
     "output_type": "execute_result"
    }
   ],
   "source": [
    "data_lemon['Date'].head()"
   ]
  },
  {
   "cell_type": "code",
   "execution_count": 7,
   "metadata": {
    "ExecuteTime": {
     "end_time": "2019-09-25T03:24:06.366502Z",
     "start_time": "2019-09-25T03:24:06.064509Z"
    },
    "collapsed": true
   },
   "outputs": [],
   "source": [
    "data_lemon['Date'] =  pd.to_datetime(data_lemon['Date'],\n",
    "                                     format = '%d/%m/%Y')"
   ]
  },
  {
   "cell_type": "code",
   "execution_count": 8,
   "metadata": {
    "ExecuteTime": {
     "end_time": "2019-09-25T03:24:06.707502Z",
     "start_time": "2019-09-25T03:24:06.371493Z"
    }
   },
   "outputs": [
    {
     "data": {
      "text/plain": [
       "0   2017-01-01\n",
       "1   2017-01-02\n",
       "2   2017-01-03\n",
       "3   2017-01-04\n",
       "4   2017-01-05\n",
       "Name: Date, dtype: datetime64[ns]"
      ]
     },
     "execution_count": 8,
     "metadata": {},
     "output_type": "execute_result"
    }
   ],
   "source": [
    "data_lemon['Date'].head()"
   ]
  },
  {
   "cell_type": "markdown",
   "metadata": {
    "cell_style": "center"
   },
   "source": [
    "<h3>2.3 Column Name Manipulation</h3>"
   ]
  },
  {
   "cell_type": "code",
   "execution_count": 9,
   "metadata": {
    "ExecuteTime": {
     "end_time": "2019-09-25T03:24:06.936246Z",
     "start_time": "2019-09-25T03:24:06.713487Z"
    }
   },
   "outputs": [
    {
     "name": "stdout",
     "output_type": "stream",
     "text": [
      "['Date' 'Day' 'Temperature' 'Rainfall' 'Flyers' 'Price' 'Sales']\n"
     ]
    }
   ],
   "source": [
    "print(data_lemon.columns.values) # Column's name"
   ]
  },
  {
   "cell_type": "code",
   "execution_count": 10,
   "metadata": {
    "ExecuteTime": {
     "end_time": "2019-09-25T03:24:07.123258Z",
     "start_time": "2019-09-25T03:24:06.944247Z"
    },
    "collapsed": true
   },
   "outputs": [],
   "source": [
    "data_lemon.columns = ['Tanggal','Hari','Suhu','Intensitas Hujan',\n",
    "                      'Leaflet','Harga','Penjualan']"
   ]
  },
  {
   "cell_type": "code",
   "execution_count": 11,
   "metadata": {
    "ExecuteTime": {
     "end_time": "2019-09-25T03:24:07.411602Z",
     "start_time": "2019-09-25T03:24:07.130237Z"
    },
    "collapsed": true
   },
   "outputs": [],
   "source": [
    "data_lemon.rename(columns = {'Intensitas Hujan':'Rainfall'},\n",
    "                  inplace = True)"
   ]
  },
  {
   "cell_type": "markdown",
   "metadata": {},
   "source": [
    "<h3>2.3 Make New Column</h3>"
   ]
  },
  {
   "cell_type": "code",
   "execution_count": 12,
   "metadata": {
    "ExecuteTime": {
     "end_time": "2019-09-25T03:24:07.623863Z",
     "start_time": "2019-09-25T03:24:07.418605Z"
    },
    "collapsed": true
   },
   "outputs": [],
   "source": [
    "data_lemon['Pendapatan'] = data_lemon['Harga'] * data_lemon['Penjualan'] # Column 'Pendapatan'"
   ]
  },
  {
   "cell_type": "code",
   "execution_count": 13,
   "metadata": {
    "ExecuteTime": {
     "end_time": "2019-09-25T03:24:07.980898Z",
     "start_time": "2019-09-25T03:24:07.631869Z"
    }
   },
   "outputs": [
    {
     "data": {
      "text/html": [
       "<div>\n",
       "<style>\n",
       "    .dataframe thead tr:only-child th {\n",
       "        text-align: right;\n",
       "    }\n",
       "\n",
       "    .dataframe thead th {\n",
       "        text-align: left;\n",
       "    }\n",
       "\n",
       "    .dataframe tbody tr th {\n",
       "        vertical-align: top;\n",
       "    }\n",
       "</style>\n",
       "<table border=\"1\" class=\"dataframe\">\n",
       "  <thead>\n",
       "    <tr style=\"text-align: right;\">\n",
       "      <th></th>\n",
       "      <th>Pendapatan</th>\n",
       "      <th>Harga</th>\n",
       "      <th>Penjualan</th>\n",
       "    </tr>\n",
       "  </thead>\n",
       "  <tbody>\n",
       "    <tr>\n",
       "      <th>146</th>\n",
       "      <td>9.3</td>\n",
       "      <td>0.3</td>\n",
       "      <td>31</td>\n",
       "    </tr>\n",
       "    <tr>\n",
       "      <th>114</th>\n",
       "      <td>8.1</td>\n",
       "      <td>0.3</td>\n",
       "      <td>27</td>\n",
       "    </tr>\n",
       "    <tr>\n",
       "      <th>172</th>\n",
       "      <td>9.3</td>\n",
       "      <td>0.3</td>\n",
       "      <td>31</td>\n",
       "    </tr>\n",
       "    <tr>\n",
       "      <th>222</th>\n",
       "      <td>15.0</td>\n",
       "      <td>0.5</td>\n",
       "      <td>30</td>\n",
       "    </tr>\n",
       "    <tr>\n",
       "      <th>341</th>\n",
       "      <td>4.5</td>\n",
       "      <td>0.3</td>\n",
       "      <td>15</td>\n",
       "    </tr>\n",
       "  </tbody>\n",
       "</table>\n",
       "</div>"
      ],
      "text/plain": [
       "     Pendapatan  Harga  Penjualan\n",
       "146         9.3    0.3         31\n",
       "114         8.1    0.3         27\n",
       "172         9.3    0.3         31\n",
       "222        15.0    0.5         30\n",
       "341         4.5    0.3         15"
      ]
     },
     "execution_count": 13,
     "metadata": {},
     "output_type": "execute_result"
    }
   ],
   "source": [
    "data_lemon[['Pendapatan', 'Harga', 'Penjualan']].sample(n = 5)"
   ]
  },
  {
   "cell_type": "code",
   "execution_count": 14,
   "metadata": {
    "ExecuteTime": {
     "end_time": "2019-09-25T03:24:08.119895Z",
     "start_time": "2019-09-25T03:24:07.988895Z"
    }
   },
   "outputs": [
    {
     "data": {
      "text/html": [
       "<div>\n",
       "<style>\n",
       "    .dataframe thead tr:only-child th {\n",
       "        text-align: right;\n",
       "    }\n",
       "\n",
       "    .dataframe thead th {\n",
       "        text-align: left;\n",
       "    }\n",
       "\n",
       "    .dataframe tbody tr th {\n",
       "        vertical-align: top;\n",
       "    }\n",
       "</style>\n",
       "<table border=\"1\" class=\"dataframe\">\n",
       "  <thead>\n",
       "    <tr style=\"text-align: right;\">\n",
       "      <th></th>\n",
       "      <th>Tanggal</th>\n",
       "      <th>Hari</th>\n",
       "      <th>Suhu</th>\n",
       "      <th>Rainfall</th>\n",
       "      <th>Leaflet</th>\n",
       "      <th>Harga</th>\n",
       "      <th>Penjualan</th>\n",
       "      <th>Pendapatan</th>\n",
       "    </tr>\n",
       "  </thead>\n",
       "  <tbody>\n",
       "    <tr>\n",
       "      <th>0</th>\n",
       "      <td>2017-01-01</td>\n",
       "      <td>Sunday</td>\n",
       "      <td>27.0</td>\n",
       "      <td>2.00</td>\n",
       "      <td>15</td>\n",
       "      <td>0.3</td>\n",
       "      <td>10</td>\n",
       "      <td>3.0</td>\n",
       "    </tr>\n",
       "    <tr>\n",
       "      <th>1</th>\n",
       "      <td>2017-01-02</td>\n",
       "      <td>Monday</td>\n",
       "      <td>28.9</td>\n",
       "      <td>1.33</td>\n",
       "      <td>15</td>\n",
       "      <td>0.3</td>\n",
       "      <td>13</td>\n",
       "      <td>3.9</td>\n",
       "    </tr>\n",
       "    <tr>\n",
       "      <th>2</th>\n",
       "      <td>2017-01-03</td>\n",
       "      <td>Tuesday</td>\n",
       "      <td>34.5</td>\n",
       "      <td>1.33</td>\n",
       "      <td>27</td>\n",
       "      <td>0.3</td>\n",
       "      <td>15</td>\n",
       "      <td>4.5</td>\n",
       "    </tr>\n",
       "    <tr>\n",
       "      <th>3</th>\n",
       "      <td>2017-01-04</td>\n",
       "      <td>Wednesday</td>\n",
       "      <td>44.1</td>\n",
       "      <td>1.05</td>\n",
       "      <td>28</td>\n",
       "      <td>0.3</td>\n",
       "      <td>17</td>\n",
       "      <td>5.1</td>\n",
       "    </tr>\n",
       "    <tr>\n",
       "      <th>4</th>\n",
       "      <td>2017-01-05</td>\n",
       "      <td>Thursday</td>\n",
       "      <td>42.4</td>\n",
       "      <td>1.00</td>\n",
       "      <td>33</td>\n",
       "      <td>0.3</td>\n",
       "      <td>18</td>\n",
       "      <td>5.4</td>\n",
       "    </tr>\n",
       "  </tbody>\n",
       "</table>\n",
       "</div>"
      ],
      "text/plain": [
       "     Tanggal       Hari  Suhu  Rainfall  Leaflet  Harga  Penjualan  Pendapatan\n",
       "0 2017-01-01     Sunday  27.0      2.00       15    0.3         10         3.0\n",
       "1 2017-01-02     Monday  28.9      1.33       15    0.3         13         3.9\n",
       "2 2017-01-03    Tuesday  34.5      1.33       27    0.3         15         4.5\n",
       "3 2017-01-04  Wednesday  44.1      1.05       28    0.3         17         5.1\n",
       "4 2017-01-05   Thursday  42.4      1.00       33    0.3         18         5.4"
      ]
     },
     "execution_count": 14,
     "metadata": {},
     "output_type": "execute_result"
    }
   ],
   "source": [
    "data_lemon.head() # Show first data"
   ]
  },
  {
   "cell_type": "code",
   "execution_count": 15,
   "metadata": {
    "ExecuteTime": {
     "end_time": "2019-09-25T03:24:08.290893Z",
     "start_time": "2019-09-25T03:24:08.130901Z"
    },
    "collapsed": true
   },
   "outputs": [],
   "source": [
    "# Make column 'Month' from 'Date' and input it in specific column\n",
    "new_col = data_lemon['Tanggal'].dt.month\n",
    "data_lemon.insert(loc = 1, column = 'Bulan', value = new_col)"
   ]
  },
  {
   "cell_type": "code",
   "execution_count": 16,
   "metadata": {
    "ExecuteTime": {
     "end_time": "2019-09-25T03:24:08.487398Z",
     "start_time": "2019-09-25T03:24:08.300898Z"
    }
   },
   "outputs": [
    {
     "data": {
      "text/html": [
       "<div>\n",
       "<style>\n",
       "    .dataframe thead tr:only-child th {\n",
       "        text-align: right;\n",
       "    }\n",
       "\n",
       "    .dataframe thead th {\n",
       "        text-align: left;\n",
       "    }\n",
       "\n",
       "    .dataframe tbody tr th {\n",
       "        vertical-align: top;\n",
       "    }\n",
       "</style>\n",
       "<table border=\"1\" class=\"dataframe\">\n",
       "  <thead>\n",
       "    <tr style=\"text-align: right;\">\n",
       "      <th></th>\n",
       "      <th>Tanggal</th>\n",
       "      <th>Bulan</th>\n",
       "      <th>Hari</th>\n",
       "      <th>Suhu</th>\n",
       "      <th>Rainfall</th>\n",
       "      <th>Leaflet</th>\n",
       "      <th>Harga</th>\n",
       "      <th>Penjualan</th>\n",
       "      <th>Pendapatan</th>\n",
       "    </tr>\n",
       "  </thead>\n",
       "  <tbody>\n",
       "    <tr>\n",
       "      <th>0</th>\n",
       "      <td>2017-01-01</td>\n",
       "      <td>1</td>\n",
       "      <td>Sunday</td>\n",
       "      <td>27.0</td>\n",
       "      <td>2.00</td>\n",
       "      <td>15</td>\n",
       "      <td>0.3</td>\n",
       "      <td>10</td>\n",
       "      <td>3.0</td>\n",
       "    </tr>\n",
       "    <tr>\n",
       "      <th>1</th>\n",
       "      <td>2017-01-02</td>\n",
       "      <td>1</td>\n",
       "      <td>Monday</td>\n",
       "      <td>28.9</td>\n",
       "      <td>1.33</td>\n",
       "      <td>15</td>\n",
       "      <td>0.3</td>\n",
       "      <td>13</td>\n",
       "      <td>3.9</td>\n",
       "    </tr>\n",
       "    <tr>\n",
       "      <th>2</th>\n",
       "      <td>2017-01-03</td>\n",
       "      <td>1</td>\n",
       "      <td>Tuesday</td>\n",
       "      <td>34.5</td>\n",
       "      <td>1.33</td>\n",
       "      <td>27</td>\n",
       "      <td>0.3</td>\n",
       "      <td>15</td>\n",
       "      <td>4.5</td>\n",
       "    </tr>\n",
       "    <tr>\n",
       "      <th>3</th>\n",
       "      <td>2017-01-04</td>\n",
       "      <td>1</td>\n",
       "      <td>Wednesday</td>\n",
       "      <td>44.1</td>\n",
       "      <td>1.05</td>\n",
       "      <td>28</td>\n",
       "      <td>0.3</td>\n",
       "      <td>17</td>\n",
       "      <td>5.1</td>\n",
       "    </tr>\n",
       "    <tr>\n",
       "      <th>4</th>\n",
       "      <td>2017-01-05</td>\n",
       "      <td>1</td>\n",
       "      <td>Thursday</td>\n",
       "      <td>42.4</td>\n",
       "      <td>1.00</td>\n",
       "      <td>33</td>\n",
       "      <td>0.3</td>\n",
       "      <td>18</td>\n",
       "      <td>5.4</td>\n",
       "    </tr>\n",
       "  </tbody>\n",
       "</table>\n",
       "</div>"
      ],
      "text/plain": [
       "     Tanggal  Bulan       Hari  Suhu  Rainfall  Leaflet  Harga  Penjualan  \\\n",
       "0 2017-01-01      1     Sunday  27.0      2.00       15    0.3         10   \n",
       "1 2017-01-02      1     Monday  28.9      1.33       15    0.3         13   \n",
       "2 2017-01-03      1    Tuesday  34.5      1.33       27    0.3         15   \n",
       "3 2017-01-04      1  Wednesday  44.1      1.05       28    0.3         17   \n",
       "4 2017-01-05      1   Thursday  42.4      1.00       33    0.3         18   \n",
       "\n",
       "   Pendapatan  \n",
       "0         3.0  \n",
       "1         3.9  \n",
       "2         4.5  \n",
       "3         5.1  \n",
       "4         5.4  "
      ]
     },
     "execution_count": 16,
     "metadata": {},
     "output_type": "execute_result"
    }
   ],
   "source": [
    "data_lemon.head() # Show first data"
   ]
  },
  {
   "cell_type": "markdown",
   "metadata": {},
   "source": [
    "<h3>2.4 Change Categorical Value in Column</h3>"
   ]
  },
  {
   "cell_type": "code",
   "execution_count": 17,
   "metadata": {
    "ExecuteTime": {
     "end_time": "2019-09-25T03:24:08.609399Z",
     "start_time": "2019-09-25T03:24:08.494400Z"
    },
    "collapsed": true
   },
   "outputs": [],
   "source": [
    "cats_month = {1:'January',2:'February',3:'March',4:'April',5:'May',6:'June',\n",
    "              7:'July',8:'August',9:'September',10:'October',11:'November',12:'December'}\n",
    "data_lemon['Bulan'] = data_lemon['Bulan'].replace(to_replace = cats_month.keys(),\n",
    "                                                  value = cats_month.values())"
   ]
  },
  {
   "cell_type": "code",
   "execution_count": 18,
   "metadata": {
    "ExecuteTime": {
     "end_time": "2019-09-25T03:24:08.783551Z",
     "start_time": "2019-09-25T03:24:08.617393Z"
    }
   },
   "outputs": [
    {
     "name": "stdout",
     "output_type": "stream",
     "text": [
      "['January' 'February' 'March' 'April' 'May' 'June' 'July' 'August'\n",
      " 'September' 'October' 'November' 'December']\n"
     ]
    }
   ],
   "source": [
    "print(data_lemon['Bulan'].unique())"
   ]
  },
  {
   "cell_type": "code",
   "execution_count": 19,
   "metadata": {
    "ExecuteTime": {
     "end_time": "2019-09-25T03:24:08.924763Z",
     "start_time": "2019-09-25T03:24:08.791557Z"
    }
   },
   "outputs": [
    {
     "data": {
      "text/html": [
       "<div>\n",
       "<style>\n",
       "    .dataframe thead tr:only-child th {\n",
       "        text-align: right;\n",
       "    }\n",
       "\n",
       "    .dataframe thead th {\n",
       "        text-align: left;\n",
       "    }\n",
       "\n",
       "    .dataframe tbody tr th {\n",
       "        vertical-align: top;\n",
       "    }\n",
       "</style>\n",
       "<table border=\"1\" class=\"dataframe\">\n",
       "  <thead>\n",
       "    <tr style=\"text-align: right;\">\n",
       "      <th></th>\n",
       "      <th>Tanggal</th>\n",
       "      <th>Bulan</th>\n",
       "      <th>Hari</th>\n",
       "      <th>Suhu</th>\n",
       "      <th>Rainfall</th>\n",
       "      <th>Leaflet</th>\n",
       "      <th>Harga</th>\n",
       "      <th>Penjualan</th>\n",
       "      <th>Pendapatan</th>\n",
       "    </tr>\n",
       "  </thead>\n",
       "  <tbody>\n",
       "    <tr>\n",
       "      <th>0</th>\n",
       "      <td>2017-01-01</td>\n",
       "      <td>January</td>\n",
       "      <td>Sunday</td>\n",
       "      <td>27.0</td>\n",
       "      <td>2.00</td>\n",
       "      <td>15</td>\n",
       "      <td>0.3</td>\n",
       "      <td>10</td>\n",
       "      <td>3.0</td>\n",
       "    </tr>\n",
       "    <tr>\n",
       "      <th>1</th>\n",
       "      <td>2017-01-02</td>\n",
       "      <td>January</td>\n",
       "      <td>Monday</td>\n",
       "      <td>28.9</td>\n",
       "      <td>1.33</td>\n",
       "      <td>15</td>\n",
       "      <td>0.3</td>\n",
       "      <td>13</td>\n",
       "      <td>3.9</td>\n",
       "    </tr>\n",
       "    <tr>\n",
       "      <th>2</th>\n",
       "      <td>2017-01-03</td>\n",
       "      <td>January</td>\n",
       "      <td>Tuesday</td>\n",
       "      <td>34.5</td>\n",
       "      <td>1.33</td>\n",
       "      <td>27</td>\n",
       "      <td>0.3</td>\n",
       "      <td>15</td>\n",
       "      <td>4.5</td>\n",
       "    </tr>\n",
       "    <tr>\n",
       "      <th>3</th>\n",
       "      <td>2017-01-04</td>\n",
       "      <td>January</td>\n",
       "      <td>Wednesday</td>\n",
       "      <td>44.1</td>\n",
       "      <td>1.05</td>\n",
       "      <td>28</td>\n",
       "      <td>0.3</td>\n",
       "      <td>17</td>\n",
       "      <td>5.1</td>\n",
       "    </tr>\n",
       "    <tr>\n",
       "      <th>4</th>\n",
       "      <td>2017-01-05</td>\n",
       "      <td>January</td>\n",
       "      <td>Thursday</td>\n",
       "      <td>42.4</td>\n",
       "      <td>1.00</td>\n",
       "      <td>33</td>\n",
       "      <td>0.3</td>\n",
       "      <td>18</td>\n",
       "      <td>5.4</td>\n",
       "    </tr>\n",
       "  </tbody>\n",
       "</table>\n",
       "</div>"
      ],
      "text/plain": [
       "     Tanggal    Bulan       Hari  Suhu  Rainfall  Leaflet  Harga  Penjualan  \\\n",
       "0 2017-01-01  January     Sunday  27.0      2.00       15    0.3         10   \n",
       "1 2017-01-02  January     Monday  28.9      1.33       15    0.3         13   \n",
       "2 2017-01-03  January    Tuesday  34.5      1.33       27    0.3         15   \n",
       "3 2017-01-04  January  Wednesday  44.1      1.05       28    0.3         17   \n",
       "4 2017-01-05  January   Thursday  42.4      1.00       33    0.3         18   \n",
       "\n",
       "   Pendapatan  \n",
       "0         3.0  \n",
       "1         3.9  \n",
       "2         4.5  \n",
       "3         5.1  \n",
       "4         5.4  "
      ]
     },
     "execution_count": 19,
     "metadata": {},
     "output_type": "execute_result"
    }
   ],
   "source": [
    "data_lemon.head() # Show first data"
   ]
  },
  {
   "cell_type": "markdown",
   "metadata": {},
   "source": [
    "<h3>2.5 Unique Value each Columns</h3>"
   ]
  },
  {
   "cell_type": "code",
   "execution_count": 20,
   "metadata": {
    "ExecuteTime": {
     "end_time": "2019-09-25T03:24:09.085739Z",
     "start_time": "2019-09-25T03:24:08.935744Z"
    }
   },
   "outputs": [
    {
     "name": "stdout",
     "output_type": "stream",
     "text": [
      "Number unique value: 7\n",
      "Unique value of Hari: \n",
      " ['Sunday' 'Monday' 'Tuesday' 'Wednesday' 'Thursday' 'Friday' 'Saturday']\n"
     ]
    }
   ],
   "source": [
    "print('Number unique value:',data_lemon['Hari'].nunique()) # Number unique value\n",
    "print('Unique value of Hari: \\n', data_lemon['Hari'].unique()) # Unique value column 'Hari'"
   ]
  },
  {
   "cell_type": "markdown",
   "metadata": {},
   "source": [
    "<h3>2.6 Check Missing Value</h3>"
   ]
  },
  {
   "cell_type": "code",
   "execution_count": 21,
   "metadata": {
    "ExecuteTime": {
     "end_time": "2019-09-25T03:24:09.240736Z",
     "start_time": "2019-09-25T03:24:09.093734Z"
    },
    "scrolled": true
   },
   "outputs": [
    {
     "name": "stdout",
     "output_type": "stream",
     "text": [
      "Tanggal : 0\n",
      "Bulan : 0\n",
      "Hari : 0\n",
      "Suhu : 0\n",
      "Rainfall : 0\n",
      "Leaflet : 0\n",
      "Harga : 0\n",
      "Penjualan : 0\n",
      "Pendapatan : 0\n"
     ]
    }
   ],
   "source": [
    "for i in data_lemon.columns.values: # Count missing value each columns\n",
    "    print(i,':',data_lemon[i].isnull().sum())"
   ]
  },
  {
   "cell_type": "markdown",
   "metadata": {},
   "source": [
    "<h2>3 Aggregating Data</h2>"
   ]
  },
  {
   "cell_type": "code",
   "execution_count": 22,
   "metadata": {
    "ExecuteTime": {
     "end_time": "2019-09-25T03:24:09.336731Z",
     "start_time": "2019-09-25T03:24:09.246733Z"
    },
    "collapsed": true
   },
   "outputs": [],
   "source": [
    "data_agg = data_lemon.copy() # Copy the data"
   ]
  },
  {
   "cell_type": "markdown",
   "metadata": {},
   "source": [
    "<h3>3.1 Aggregating Data by Date</h3>"
   ]
  },
  {
   "cell_type": "code",
   "execution_count": 23,
   "metadata": {
    "ExecuteTime": {
     "end_time": "2019-09-25T03:24:09.625478Z",
     "start_time": "2019-09-25T03:24:09.342729Z"
    }
   },
   "outputs": [
    {
     "data": {
      "text/html": [
       "<div>\n",
       "<style>\n",
       "    .dataframe thead tr:only-child th {\n",
       "        text-align: right;\n",
       "    }\n",
       "\n",
       "    .dataframe thead th {\n",
       "        text-align: left;\n",
       "    }\n",
       "\n",
       "    .dataframe tbody tr th {\n",
       "        vertical-align: top;\n",
       "    }\n",
       "</style>\n",
       "<table border=\"1\" class=\"dataframe\">\n",
       "  <thead>\n",
       "    <tr style=\"text-align: right;\">\n",
       "      <th></th>\n",
       "      <th>Hari</th>\n",
       "      <th>Penjualan</th>\n",
       "      <th>Pendapatan</th>\n",
       "    </tr>\n",
       "  </thead>\n",
       "  <tbody>\n",
       "    <tr>\n",
       "      <th>0</th>\n",
       "      <td>Friday</td>\n",
       "      <td>1320</td>\n",
       "      <td>448.8</td>\n",
       "    </tr>\n",
       "    <tr>\n",
       "      <th>1</th>\n",
       "      <td>Monday</td>\n",
       "      <td>1324</td>\n",
       "      <td>457.0</td>\n",
       "    </tr>\n",
       "    <tr>\n",
       "      <th>2</th>\n",
       "      <td>Saturday</td>\n",
       "      <td>1318</td>\n",
       "      <td>457.8</td>\n",
       "    </tr>\n",
       "    <tr>\n",
       "      <th>3</th>\n",
       "      <td>Sunday</td>\n",
       "      <td>1316</td>\n",
       "      <td>454.0</td>\n",
       "    </tr>\n",
       "    <tr>\n",
       "      <th>4</th>\n",
       "      <td>Thursday</td>\n",
       "      <td>1335</td>\n",
       "      <td>460.9</td>\n",
       "    </tr>\n",
       "    <tr>\n",
       "      <th>5</th>\n",
       "      <td>Tuesday</td>\n",
       "      <td>1307</td>\n",
       "      <td>451.1</td>\n",
       "    </tr>\n",
       "    <tr>\n",
       "      <th>6</th>\n",
       "      <td>Wednesday</td>\n",
       "      <td>1323</td>\n",
       "      <td>454.1</td>\n",
       "    </tr>\n",
       "  </tbody>\n",
       "</table>\n",
       "</div>"
      ],
      "text/plain": [
       "        Hari  Penjualan  Pendapatan\n",
       "0     Friday       1320       448.8\n",
       "1     Monday       1324       457.0\n",
       "2   Saturday       1318       457.8\n",
       "3     Sunday       1316       454.0\n",
       "4   Thursday       1335       460.9\n",
       "5    Tuesday       1307       451.1\n",
       "6  Wednesday       1323       454.1"
      ]
     },
     "execution_count": 23,
     "metadata": {},
     "output_type": "execute_result"
    }
   ],
   "source": [
    "data_agg.groupby(['Hari'],\n",
    "                 as_index = False)['Penjualan','Pendapatan'].agg('sum')"
   ]
  },
  {
   "cell_type": "code",
   "execution_count": 24,
   "metadata": {
    "ExecuteTime": {
     "end_time": "2019-09-25T03:24:09.735461Z",
     "start_time": "2019-09-25T03:24:09.634462Z"
    }
   },
   "outputs": [
    {
     "data": {
      "text/html": [
       "<div>\n",
       "<style>\n",
       "    .dataframe thead tr:only-child th {\n",
       "        text-align: right;\n",
       "    }\n",
       "\n",
       "    .dataframe thead th {\n",
       "        text-align: left;\n",
       "    }\n",
       "\n",
       "    .dataframe tbody tr th {\n",
       "        vertical-align: top;\n",
       "    }\n",
       "</style>\n",
       "<table border=\"1\" class=\"dataframe\">\n",
       "  <thead>\n",
       "    <tr style=\"text-align: right;\">\n",
       "      <th></th>\n",
       "      <th>Hari</th>\n",
       "      <th>Suhu</th>\n",
       "      <th>Rainfall</th>\n",
       "      <th>Leaflet</th>\n",
       "      <th>Harga</th>\n",
       "      <th>Penjualan</th>\n",
       "      <th>Pendapatan</th>\n",
       "    </tr>\n",
       "  </thead>\n",
       "  <tbody>\n",
       "    <tr>\n",
       "      <th>0</th>\n",
       "      <td>Friday</td>\n",
       "      <td>61.134615</td>\n",
       "      <td>0.817115</td>\n",
       "      <td>2097</td>\n",
       "      <td>0.330769</td>\n",
       "      <td>1320</td>\n",
       "      <td>448.8</td>\n",
       "    </tr>\n",
       "    <tr>\n",
       "      <th>1</th>\n",
       "      <td>Monday</td>\n",
       "      <td>60.888462</td>\n",
       "      <td>0.823462</td>\n",
       "      <td>2069</td>\n",
       "      <td>0.334615</td>\n",
       "      <td>1324</td>\n",
       "      <td>457.0</td>\n",
       "    </tr>\n",
       "    <tr>\n",
       "      <th>2</th>\n",
       "      <td>Saturday</td>\n",
       "      <td>60.930769</td>\n",
       "      <td>0.823077</td>\n",
       "      <td>1997</td>\n",
       "      <td>0.334615</td>\n",
       "      <td>1318</td>\n",
       "      <td>457.8</td>\n",
       "    </tr>\n",
       "    <tr>\n",
       "      <th>3</th>\n",
       "      <td>Sunday</td>\n",
       "      <td>59.769811</td>\n",
       "      <td>0.873585</td>\n",
       "      <td>2137</td>\n",
       "      <td>0.333962</td>\n",
       "      <td>1316</td>\n",
       "      <td>454.0</td>\n",
       "    </tr>\n",
       "    <tr>\n",
       "      <th>4</th>\n",
       "      <td>Thursday</td>\n",
       "      <td>61.125000</td>\n",
       "      <td>0.812500</td>\n",
       "      <td>2117</td>\n",
       "      <td>0.334615</td>\n",
       "      <td>1335</td>\n",
       "      <td>460.9</td>\n",
       "    </tr>\n",
       "    <tr>\n",
       "      <th>5</th>\n",
       "      <td>Tuesday</td>\n",
       "      <td>59.944231</td>\n",
       "      <td>0.829423</td>\n",
       "      <td>2135</td>\n",
       "      <td>0.334615</td>\n",
       "      <td>1307</td>\n",
       "      <td>451.1</td>\n",
       "    </tr>\n",
       "    <tr>\n",
       "      <th>6</th>\n",
       "      <td>Wednesday</td>\n",
       "      <td>61.344231</td>\n",
       "      <td>0.806154</td>\n",
       "      <td>2152</td>\n",
       "      <td>0.334615</td>\n",
       "      <td>1323</td>\n",
       "      <td>454.1</td>\n",
       "    </tr>\n",
       "  </tbody>\n",
       "</table>\n",
       "</div>"
      ],
      "text/plain": [
       "        Hari       Suhu  Rainfall  Leaflet     Harga  Penjualan  Pendapatan\n",
       "0     Friday  61.134615  0.817115     2097  0.330769       1320       448.8\n",
       "1     Monday  60.888462  0.823462     2069  0.334615       1324       457.0\n",
       "2   Saturday  60.930769  0.823077     1997  0.334615       1318       457.8\n",
       "3     Sunday  59.769811  0.873585     2137  0.333962       1316       454.0\n",
       "4   Thursday  61.125000  0.812500     2117  0.334615       1335       460.9\n",
       "5    Tuesday  59.944231  0.829423     2135  0.334615       1307       451.1\n",
       "6  Wednesday  61.344231  0.806154     2152  0.334615       1323       454.1"
      ]
     },
     "execution_count": 24,
     "metadata": {},
     "output_type": "execute_result"
    }
   ],
   "source": [
    "# Specific aggregation function\n",
    "df_agg = data_agg.groupby(['Hari'],as_index = False).agg({'Suhu':'mean','Rainfall':'mean','Leaflet':'sum',\n",
    "                                                          'Harga':'mean','Penjualan':'sum','Pendapatan':'sum'})\n",
    "df_agg"
   ]
  },
  {
   "cell_type": "code",
   "execution_count": 25,
   "metadata": {
    "ExecuteTime": {
     "end_time": "2019-09-25T03:24:09.859473Z",
     "start_time": "2019-09-25T03:24:09.747463Z"
    }
   },
   "outputs": [
    {
     "data": {
      "text/html": [
       "<div>\n",
       "<style>\n",
       "    .dataframe thead tr:only-child th {\n",
       "        text-align: right;\n",
       "    }\n",
       "\n",
       "    .dataframe thead th {\n",
       "        text-align: left;\n",
       "    }\n",
       "\n",
       "    .dataframe tbody tr th {\n",
       "        vertical-align: top;\n",
       "    }\n",
       "</style>\n",
       "<table border=\"1\" class=\"dataframe\">\n",
       "  <thead>\n",
       "    <tr style=\"text-align: right;\">\n",
       "      <th></th>\n",
       "      <th>Hari</th>\n",
       "      <th>Suhu</th>\n",
       "      <th>Rainfall</th>\n",
       "      <th>Leaflet</th>\n",
       "      <th>Harga</th>\n",
       "      <th>Penjualan</th>\n",
       "      <th>Pendapatan</th>\n",
       "    </tr>\n",
       "  </thead>\n",
       "  <tbody>\n",
       "    <tr>\n",
       "      <th>1</th>\n",
       "      <td>Monday</td>\n",
       "      <td>60.888462</td>\n",
       "      <td>0.823462</td>\n",
       "      <td>2069</td>\n",
       "      <td>0.334615</td>\n",
       "      <td>1324</td>\n",
       "      <td>457.0</td>\n",
       "    </tr>\n",
       "    <tr>\n",
       "      <th>5</th>\n",
       "      <td>Tuesday</td>\n",
       "      <td>59.944231</td>\n",
       "      <td>0.829423</td>\n",
       "      <td>2135</td>\n",
       "      <td>0.334615</td>\n",
       "      <td>1307</td>\n",
       "      <td>451.1</td>\n",
       "    </tr>\n",
       "    <tr>\n",
       "      <th>6</th>\n",
       "      <td>Wednesday</td>\n",
       "      <td>61.344231</td>\n",
       "      <td>0.806154</td>\n",
       "      <td>2152</td>\n",
       "      <td>0.334615</td>\n",
       "      <td>1323</td>\n",
       "      <td>454.1</td>\n",
       "    </tr>\n",
       "    <tr>\n",
       "      <th>4</th>\n",
       "      <td>Thursday</td>\n",
       "      <td>61.125000</td>\n",
       "      <td>0.812500</td>\n",
       "      <td>2117</td>\n",
       "      <td>0.334615</td>\n",
       "      <td>1335</td>\n",
       "      <td>460.9</td>\n",
       "    </tr>\n",
       "    <tr>\n",
       "      <th>0</th>\n",
       "      <td>Friday</td>\n",
       "      <td>61.134615</td>\n",
       "      <td>0.817115</td>\n",
       "      <td>2097</td>\n",
       "      <td>0.330769</td>\n",
       "      <td>1320</td>\n",
       "      <td>448.8</td>\n",
       "    </tr>\n",
       "    <tr>\n",
       "      <th>2</th>\n",
       "      <td>Saturday</td>\n",
       "      <td>60.930769</td>\n",
       "      <td>0.823077</td>\n",
       "      <td>1997</td>\n",
       "      <td>0.334615</td>\n",
       "      <td>1318</td>\n",
       "      <td>457.8</td>\n",
       "    </tr>\n",
       "    <tr>\n",
       "      <th>3</th>\n",
       "      <td>Sunday</td>\n",
       "      <td>59.769811</td>\n",
       "      <td>0.873585</td>\n",
       "      <td>2137</td>\n",
       "      <td>0.333962</td>\n",
       "      <td>1316</td>\n",
       "      <td>454.0</td>\n",
       "    </tr>\n",
       "  </tbody>\n",
       "</table>\n",
       "</div>"
      ],
      "text/plain": [
       "        Hari       Suhu  Rainfall  Leaflet     Harga  Penjualan  Pendapatan\n",
       "1     Monday  60.888462  0.823462     2069  0.334615       1324       457.0\n",
       "5    Tuesday  59.944231  0.829423     2135  0.334615       1307       451.1\n",
       "6  Wednesday  61.344231  0.806154     2152  0.334615       1323       454.1\n",
       "4   Thursday  61.125000  0.812500     2117  0.334615       1335       460.9\n",
       "0     Friday  61.134615  0.817115     2097  0.330769       1320       448.8\n",
       "2   Saturday  60.930769  0.823077     1997  0.334615       1318       457.8\n",
       "3     Sunday  59.769811  0.873585     2137  0.333962       1316       454.0"
      ]
     },
     "execution_count": 25,
     "metadata": {},
     "output_type": "execute_result"
    }
   ],
   "source": [
    "# Sort specific value\n",
    "cats = ['Monday','Tuesday','Wednesday','Thursday','Friday','Saturday','Sunday']\n",
    "df_agg['Hari'] = pd.Categorical(df_agg['Hari'],categories = cats,ordered = True)\n",
    "df_agg.sort_values('Hari',ascending = True)"
   ]
  },
  {
   "cell_type": "markdown",
   "metadata": {},
   "source": [
    "<h3>3.2 Aggregating Data by Month</h3>"
   ]
  },
  {
   "cell_type": "code",
   "execution_count": 26,
   "metadata": {
    "ExecuteTime": {
     "end_time": "2019-09-25T03:24:09.988480Z",
     "start_time": "2019-09-25T03:24:09.867462Z"
    }
   },
   "outputs": [
    {
     "data": {
      "text/html": [
       "<div>\n",
       "<style>\n",
       "    .dataframe thead tr:only-child th {\n",
       "        text-align: right;\n",
       "    }\n",
       "\n",
       "    .dataframe thead th {\n",
       "        text-align: left;\n",
       "    }\n",
       "\n",
       "    .dataframe tbody tr th {\n",
       "        vertical-align: top;\n",
       "    }\n",
       "</style>\n",
       "<table border=\"1\" class=\"dataframe\">\n",
       "  <thead>\n",
       "    <tr style=\"text-align: right;\">\n",
       "      <th></th>\n",
       "      <th>Bulan</th>\n",
       "      <th>Penjualan</th>\n",
       "      <th>Pendapatan</th>\n",
       "    </tr>\n",
       "  </thead>\n",
       "  <tbody>\n",
       "    <tr>\n",
       "      <th>0</th>\n",
       "      <td>April</td>\n",
       "      <td>786</td>\n",
       "      <td>235.8</td>\n",
       "    </tr>\n",
       "    <tr>\n",
       "      <th>1</th>\n",
       "      <td>August</td>\n",
       "      <td>941</td>\n",
       "      <td>470.5</td>\n",
       "    </tr>\n",
       "    <tr>\n",
       "      <th>2</th>\n",
       "      <td>December</td>\n",
       "      <td>462</td>\n",
       "      <td>138.6</td>\n",
       "    </tr>\n",
       "    <tr>\n",
       "      <th>3</th>\n",
       "      <td>February</td>\n",
       "      <td>557</td>\n",
       "      <td>167.1</td>\n",
       "    </tr>\n",
       "    <tr>\n",
       "      <th>4</th>\n",
       "      <td>January</td>\n",
       "      <td>462</td>\n",
       "      <td>138.6</td>\n",
       "    </tr>\n",
       "    <tr>\n",
       "      <th>5</th>\n",
       "      <td>July</td>\n",
       "      <td>1113</td>\n",
       "      <td>556.5</td>\n",
       "    </tr>\n",
       "    <tr>\n",
       "      <th>6</th>\n",
       "      <td>June</td>\n",
       "      <td>1056</td>\n",
       "      <td>316.8</td>\n",
       "    </tr>\n",
       "    <tr>\n",
       "      <th>7</th>\n",
       "      <td>March</td>\n",
       "      <td>742</td>\n",
       "      <td>222.6</td>\n",
       "    </tr>\n",
       "    <tr>\n",
       "      <th>8</th>\n",
       "      <td>May</td>\n",
       "      <td>915</td>\n",
       "      <td>274.5</td>\n",
       "    </tr>\n",
       "    <tr>\n",
       "      <th>9</th>\n",
       "      <td>November</td>\n",
       "      <td>632</td>\n",
       "      <td>189.6</td>\n",
       "    </tr>\n",
       "    <tr>\n",
       "      <th>10</th>\n",
       "      <td>October</td>\n",
       "      <td>765</td>\n",
       "      <td>229.5</td>\n",
       "    </tr>\n",
       "    <tr>\n",
       "      <th>11</th>\n",
       "      <td>September</td>\n",
       "      <td>812</td>\n",
       "      <td>243.6</td>\n",
       "    </tr>\n",
       "  </tbody>\n",
       "</table>\n",
       "</div>"
      ],
      "text/plain": [
       "        Bulan  Penjualan  Pendapatan\n",
       "0       April        786       235.8\n",
       "1      August        941       470.5\n",
       "2    December        462       138.6\n",
       "3    February        557       167.1\n",
       "4     January        462       138.6\n",
       "5        July       1113       556.5\n",
       "6        June       1056       316.8\n",
       "7       March        742       222.6\n",
       "8         May        915       274.5\n",
       "9    November        632       189.6\n",
       "10    October        765       229.5\n",
       "11  September        812       243.6"
      ]
     },
     "execution_count": 26,
     "metadata": {},
     "output_type": "execute_result"
    }
   ],
   "source": [
    "data_agg.groupby(['Bulan'],\n",
    "                 as_index = False)['Penjualan','Pendapatan'].agg('sum')"
   ]
  },
  {
   "cell_type": "code",
   "execution_count": 27,
   "metadata": {
    "ExecuteTime": {
     "end_time": "2019-09-25T03:24:10.132480Z",
     "start_time": "2019-09-25T03:24:09.994458Z"
    }
   },
   "outputs": [
    {
     "data": {
      "text/html": [
       "<div>\n",
       "<style>\n",
       "    .dataframe thead tr:only-child th {\n",
       "        text-align: right;\n",
       "    }\n",
       "\n",
       "    .dataframe thead th {\n",
       "        text-align: left;\n",
       "    }\n",
       "\n",
       "    .dataframe tbody tr th {\n",
       "        vertical-align: top;\n",
       "    }\n",
       "</style>\n",
       "<table border=\"1\" class=\"dataframe\">\n",
       "  <thead>\n",
       "    <tr style=\"text-align: right;\">\n",
       "      <th></th>\n",
       "      <th>Hari</th>\n",
       "      <th>Suhu</th>\n",
       "      <th>Rainfall</th>\n",
       "      <th>Leaflet</th>\n",
       "      <th>Harga</th>\n",
       "      <th>Penjualan</th>\n",
       "      <th>Pendapatan</th>\n",
       "    </tr>\n",
       "  </thead>\n",
       "  <tbody>\n",
       "    <tr>\n",
       "      <th>1</th>\n",
       "      <td>Monday</td>\n",
       "      <td>60.888462</td>\n",
       "      <td>0.823462</td>\n",
       "      <td>2069</td>\n",
       "      <td>0.334615</td>\n",
       "      <td>1324</td>\n",
       "      <td>457.0</td>\n",
       "    </tr>\n",
       "    <tr>\n",
       "      <th>5</th>\n",
       "      <td>Tuesday</td>\n",
       "      <td>59.944231</td>\n",
       "      <td>0.829423</td>\n",
       "      <td>2135</td>\n",
       "      <td>0.334615</td>\n",
       "      <td>1307</td>\n",
       "      <td>451.1</td>\n",
       "    </tr>\n",
       "    <tr>\n",
       "      <th>6</th>\n",
       "      <td>Wednesday</td>\n",
       "      <td>61.344231</td>\n",
       "      <td>0.806154</td>\n",
       "      <td>2152</td>\n",
       "      <td>0.334615</td>\n",
       "      <td>1323</td>\n",
       "      <td>454.1</td>\n",
       "    </tr>\n",
       "    <tr>\n",
       "      <th>4</th>\n",
       "      <td>Thursday</td>\n",
       "      <td>61.125000</td>\n",
       "      <td>0.812500</td>\n",
       "      <td>2117</td>\n",
       "      <td>0.334615</td>\n",
       "      <td>1335</td>\n",
       "      <td>460.9</td>\n",
       "    </tr>\n",
       "    <tr>\n",
       "      <th>0</th>\n",
       "      <td>Friday</td>\n",
       "      <td>61.134615</td>\n",
       "      <td>0.817115</td>\n",
       "      <td>2097</td>\n",
       "      <td>0.330769</td>\n",
       "      <td>1320</td>\n",
       "      <td>448.8</td>\n",
       "    </tr>\n",
       "    <tr>\n",
       "      <th>2</th>\n",
       "      <td>Saturday</td>\n",
       "      <td>60.930769</td>\n",
       "      <td>0.823077</td>\n",
       "      <td>1997</td>\n",
       "      <td>0.334615</td>\n",
       "      <td>1318</td>\n",
       "      <td>457.8</td>\n",
       "    </tr>\n",
       "    <tr>\n",
       "      <th>3</th>\n",
       "      <td>Sunday</td>\n",
       "      <td>59.769811</td>\n",
       "      <td>0.873585</td>\n",
       "      <td>2137</td>\n",
       "      <td>0.333962</td>\n",
       "      <td>1316</td>\n",
       "      <td>454.0</td>\n",
       "    </tr>\n",
       "  </tbody>\n",
       "</table>\n",
       "</div>"
      ],
      "text/plain": [
       "        Hari       Suhu  Rainfall  Leaflet     Harga  Penjualan  Pendapatan\n",
       "1     Monday  60.888462  0.823462     2069  0.334615       1324       457.0\n",
       "5    Tuesday  59.944231  0.829423     2135  0.334615       1307       451.1\n",
       "6  Wednesday  61.344231  0.806154     2152  0.334615       1323       454.1\n",
       "4   Thursday  61.125000  0.812500     2117  0.334615       1335       460.9\n",
       "0     Friday  61.134615  0.817115     2097  0.330769       1320       448.8\n",
       "2   Saturday  60.930769  0.823077     1997  0.334615       1318       457.8\n",
       "3     Sunday  59.769811  0.873585     2137  0.333962       1316       454.0"
      ]
     },
     "execution_count": 27,
     "metadata": {},
     "output_type": "execute_result"
    }
   ],
   "source": [
    "# Specific aggregation function\n",
    "df_agg = data_agg.groupby(['Hari'],as_index = False).agg({'Suhu':'mean','Rainfall':'mean','Leaflet':'sum',\n",
    "                                                          'Harga':'mean','Penjualan':'sum','Pendapatan':'sum'})\n",
    "df_agg.reindex_axis([1,5,6,4,0,2,3]) # Reindex"
   ]
  },
  {
   "cell_type": "markdown",
   "metadata": {},
   "source": [
    "<h2>4 Cross Tabulation</h2>"
   ]
  },
  {
   "cell_type": "code",
   "execution_count": 28,
   "metadata": {
    "ExecuteTime": {
     "end_time": "2019-09-25T03:24:10.411452Z",
     "start_time": "2019-09-25T03:24:10.140461Z"
    }
   },
   "outputs": [
    {
     "data": {
      "text/html": [
       "<div>\n",
       "<style>\n",
       "    .dataframe thead tr:only-child th {\n",
       "        text-align: right;\n",
       "    }\n",
       "\n",
       "    .dataframe thead th {\n",
       "        text-align: left;\n",
       "    }\n",
       "\n",
       "    .dataframe tbody tr th {\n",
       "        vertical-align: top;\n",
       "    }\n",
       "</style>\n",
       "<table border=\"1\" class=\"dataframe\">\n",
       "  <thead>\n",
       "    <tr style=\"text-align: right;\">\n",
       "      <th>Hari</th>\n",
       "      <th>Friday</th>\n",
       "      <th>Monday</th>\n",
       "      <th>Saturday</th>\n",
       "      <th>Sunday</th>\n",
       "      <th>Thursday</th>\n",
       "      <th>Tuesday</th>\n",
       "      <th>Wednesday</th>\n",
       "    </tr>\n",
       "    <tr>\n",
       "      <th>Bulan</th>\n",
       "      <th></th>\n",
       "      <th></th>\n",
       "      <th></th>\n",
       "      <th></th>\n",
       "      <th></th>\n",
       "      <th></th>\n",
       "      <th></th>\n",
       "    </tr>\n",
       "  </thead>\n",
       "  <tbody>\n",
       "    <tr>\n",
       "      <th>April</th>\n",
       "      <td>4</td>\n",
       "      <td>4</td>\n",
       "      <td>5</td>\n",
       "      <td>5</td>\n",
       "      <td>4</td>\n",
       "      <td>4</td>\n",
       "      <td>4</td>\n",
       "    </tr>\n",
       "    <tr>\n",
       "      <th>August</th>\n",
       "      <td>4</td>\n",
       "      <td>4</td>\n",
       "      <td>4</td>\n",
       "      <td>4</td>\n",
       "      <td>5</td>\n",
       "      <td>5</td>\n",
       "      <td>5</td>\n",
       "    </tr>\n",
       "    <tr>\n",
       "      <th>December</th>\n",
       "      <td>5</td>\n",
       "      <td>4</td>\n",
       "      <td>5</td>\n",
       "      <td>5</td>\n",
       "      <td>4</td>\n",
       "      <td>4</td>\n",
       "      <td>4</td>\n",
       "    </tr>\n",
       "    <tr>\n",
       "      <th>February</th>\n",
       "      <td>4</td>\n",
       "      <td>4</td>\n",
       "      <td>4</td>\n",
       "      <td>4</td>\n",
       "      <td>4</td>\n",
       "      <td>4</td>\n",
       "      <td>4</td>\n",
       "    </tr>\n",
       "    <tr>\n",
       "      <th>January</th>\n",
       "      <td>4</td>\n",
       "      <td>5</td>\n",
       "      <td>4</td>\n",
       "      <td>5</td>\n",
       "      <td>4</td>\n",
       "      <td>5</td>\n",
       "      <td>4</td>\n",
       "    </tr>\n",
       "    <tr>\n",
       "      <th>July</th>\n",
       "      <td>4</td>\n",
       "      <td>5</td>\n",
       "      <td>5</td>\n",
       "      <td>5</td>\n",
       "      <td>4</td>\n",
       "      <td>4</td>\n",
       "      <td>4</td>\n",
       "    </tr>\n",
       "    <tr>\n",
       "      <th>June</th>\n",
       "      <td>5</td>\n",
       "      <td>4</td>\n",
       "      <td>4</td>\n",
       "      <td>4</td>\n",
       "      <td>5</td>\n",
       "      <td>4</td>\n",
       "      <td>4</td>\n",
       "    </tr>\n",
       "    <tr>\n",
       "      <th>March</th>\n",
       "      <td>5</td>\n",
       "      <td>4</td>\n",
       "      <td>4</td>\n",
       "      <td>4</td>\n",
       "      <td>5</td>\n",
       "      <td>4</td>\n",
       "      <td>5</td>\n",
       "    </tr>\n",
       "    <tr>\n",
       "      <th>May</th>\n",
       "      <td>4</td>\n",
       "      <td>5</td>\n",
       "      <td>4</td>\n",
       "      <td>4</td>\n",
       "      <td>4</td>\n",
       "      <td>5</td>\n",
       "      <td>5</td>\n",
       "    </tr>\n",
       "    <tr>\n",
       "      <th>November</th>\n",
       "      <td>4</td>\n",
       "      <td>4</td>\n",
       "      <td>4</td>\n",
       "      <td>4</td>\n",
       "      <td>5</td>\n",
       "      <td>4</td>\n",
       "      <td>5</td>\n",
       "    </tr>\n",
       "    <tr>\n",
       "      <th>October</th>\n",
       "      <td>4</td>\n",
       "      <td>5</td>\n",
       "      <td>4</td>\n",
       "      <td>5</td>\n",
       "      <td>4</td>\n",
       "      <td>5</td>\n",
       "      <td>4</td>\n",
       "    </tr>\n",
       "    <tr>\n",
       "      <th>September</th>\n",
       "      <td>5</td>\n",
       "      <td>4</td>\n",
       "      <td>5</td>\n",
       "      <td>4</td>\n",
       "      <td>4</td>\n",
       "      <td>4</td>\n",
       "      <td>4</td>\n",
       "    </tr>\n",
       "  </tbody>\n",
       "</table>\n",
       "</div>"
      ],
      "text/plain": [
       "Hari       Friday  Monday  Saturday  Sunday  Thursday  Tuesday  Wednesday\n",
       "Bulan                                                                    \n",
       "April           4       4         5       5         4        4          4\n",
       "August          4       4         4       4         5        5          5\n",
       "December        5       4         5       5         4        4          4\n",
       "February        4       4         4       4         4        4          4\n",
       "January         4       5         4       5         4        5          4\n",
       "July            4       5         5       5         4        4          4\n",
       "June            5       4         4       4         5        4          4\n",
       "March           5       4         4       4         5        4          5\n",
       "May             4       5         4       4         4        5          5\n",
       "November        4       4         4       4         5        4          5\n",
       "October         4       5         4       5         4        5          4\n",
       "September       5       4         5       4         4        4          4"
      ]
     },
     "execution_count": 28,
     "metadata": {},
     "output_type": "execute_result"
    }
   ],
   "source": [
    "df_cross = pd.crosstab(data_lemon.Bulan,data_lemon.Hari) # Add 'margin = True' to show total\n",
    "df_cross"
   ]
  },
  {
   "cell_type": "code",
   "execution_count": 29,
   "metadata": {
    "ExecuteTime": {
     "end_time": "2019-09-25T03:24:10.443459Z",
     "start_time": "2019-09-25T03:24:10.420457Z"
    }
   },
   "outputs": [
    {
     "name": "stdout",
     "output_type": "stream",
     "text": [
      "['Friday' 'Monday' 'Saturday' 'Sunday' 'Thursday' 'Tuesday' 'Wednesday']\n"
     ]
    }
   ],
   "source": [
    "print(df_cross.columns.values) # Column's name"
   ]
  },
  {
   "cell_type": "code",
   "execution_count": 30,
   "metadata": {
    "ExecuteTime": {
     "end_time": "2019-09-25T03:24:10.576457Z",
     "start_time": "2019-09-25T03:24:10.452452Z"
    }
   },
   "outputs": [
    {
     "data": {
      "text/html": [
       "<div>\n",
       "<style>\n",
       "    .dataframe thead tr:only-child th {\n",
       "        text-align: right;\n",
       "    }\n",
       "\n",
       "    .dataframe thead th {\n",
       "        text-align: left;\n",
       "    }\n",
       "\n",
       "    .dataframe tbody tr th {\n",
       "        vertical-align: top;\n",
       "    }\n",
       "</style>\n",
       "<table border=\"1\" class=\"dataframe\">\n",
       "  <thead>\n",
       "    <tr style=\"text-align: right;\">\n",
       "      <th>Hari</th>\n",
       "      <th>Monday</th>\n",
       "      <th>Tuesday</th>\n",
       "      <th>Wednesday</th>\n",
       "      <th>Thursday</th>\n",
       "      <th>Friday</th>\n",
       "      <th>Saturday</th>\n",
       "      <th>Sunday</th>\n",
       "    </tr>\n",
       "    <tr>\n",
       "      <th>Bulan</th>\n",
       "      <th></th>\n",
       "      <th></th>\n",
       "      <th></th>\n",
       "      <th></th>\n",
       "      <th></th>\n",
       "      <th></th>\n",
       "      <th></th>\n",
       "    </tr>\n",
       "  </thead>\n",
       "  <tbody>\n",
       "    <tr>\n",
       "      <th>January</th>\n",
       "      <td>5</td>\n",
       "      <td>5</td>\n",
       "      <td>4</td>\n",
       "      <td>4</td>\n",
       "      <td>4</td>\n",
       "      <td>4</td>\n",
       "      <td>5</td>\n",
       "    </tr>\n",
       "    <tr>\n",
       "      <th>February</th>\n",
       "      <td>4</td>\n",
       "      <td>4</td>\n",
       "      <td>4</td>\n",
       "      <td>4</td>\n",
       "      <td>4</td>\n",
       "      <td>4</td>\n",
       "      <td>4</td>\n",
       "    </tr>\n",
       "    <tr>\n",
       "      <th>March</th>\n",
       "      <td>4</td>\n",
       "      <td>4</td>\n",
       "      <td>5</td>\n",
       "      <td>5</td>\n",
       "      <td>5</td>\n",
       "      <td>4</td>\n",
       "      <td>4</td>\n",
       "    </tr>\n",
       "    <tr>\n",
       "      <th>April</th>\n",
       "      <td>4</td>\n",
       "      <td>4</td>\n",
       "      <td>4</td>\n",
       "      <td>4</td>\n",
       "      <td>4</td>\n",
       "      <td>5</td>\n",
       "      <td>5</td>\n",
       "    </tr>\n",
       "    <tr>\n",
       "      <th>May</th>\n",
       "      <td>5</td>\n",
       "      <td>5</td>\n",
       "      <td>5</td>\n",
       "      <td>4</td>\n",
       "      <td>4</td>\n",
       "      <td>4</td>\n",
       "      <td>4</td>\n",
       "    </tr>\n",
       "    <tr>\n",
       "      <th>June</th>\n",
       "      <td>4</td>\n",
       "      <td>4</td>\n",
       "      <td>4</td>\n",
       "      <td>5</td>\n",
       "      <td>5</td>\n",
       "      <td>4</td>\n",
       "      <td>4</td>\n",
       "    </tr>\n",
       "    <tr>\n",
       "      <th>July</th>\n",
       "      <td>5</td>\n",
       "      <td>4</td>\n",
       "      <td>4</td>\n",
       "      <td>4</td>\n",
       "      <td>4</td>\n",
       "      <td>5</td>\n",
       "      <td>5</td>\n",
       "    </tr>\n",
       "    <tr>\n",
       "      <th>August</th>\n",
       "      <td>4</td>\n",
       "      <td>5</td>\n",
       "      <td>5</td>\n",
       "      <td>5</td>\n",
       "      <td>4</td>\n",
       "      <td>4</td>\n",
       "      <td>4</td>\n",
       "    </tr>\n",
       "    <tr>\n",
       "      <th>September</th>\n",
       "      <td>4</td>\n",
       "      <td>4</td>\n",
       "      <td>4</td>\n",
       "      <td>4</td>\n",
       "      <td>5</td>\n",
       "      <td>5</td>\n",
       "      <td>4</td>\n",
       "    </tr>\n",
       "    <tr>\n",
       "      <th>October</th>\n",
       "      <td>5</td>\n",
       "      <td>5</td>\n",
       "      <td>4</td>\n",
       "      <td>4</td>\n",
       "      <td>4</td>\n",
       "      <td>4</td>\n",
       "      <td>5</td>\n",
       "    </tr>\n",
       "    <tr>\n",
       "      <th>November</th>\n",
       "      <td>4</td>\n",
       "      <td>4</td>\n",
       "      <td>5</td>\n",
       "      <td>5</td>\n",
       "      <td>4</td>\n",
       "      <td>4</td>\n",
       "      <td>4</td>\n",
       "    </tr>\n",
       "    <tr>\n",
       "      <th>December</th>\n",
       "      <td>4</td>\n",
       "      <td>4</td>\n",
       "      <td>4</td>\n",
       "      <td>4</td>\n",
       "      <td>5</td>\n",
       "      <td>5</td>\n",
       "      <td>5</td>\n",
       "    </tr>\n",
       "  </tbody>\n",
       "</table>\n",
       "</div>"
      ],
      "text/plain": [
       "Hari       Monday  Tuesday  Wednesday  Thursday  Friday  Saturday  Sunday\n",
       "Bulan                                                                    \n",
       "January         5        5          4         4       4         4       5\n",
       "February        4        4          4         4       4         4       4\n",
       "March           4        4          5         5       5         4       4\n",
       "April           4        4          4         4       4         5       5\n",
       "May             5        5          5         4       4         4       4\n",
       "June            4        4          4         5       5         4       4\n",
       "July            5        4          4         4       4         5       5\n",
       "August          4        5          5         5       4         4       4\n",
       "September       4        4          4         4       5         5       4\n",
       "October         5        5          4         4       4         4       5\n",
       "November        4        4          5         5       4         4       4\n",
       "December        4        4          4         4       5         5       5"
      ]
     },
     "execution_count": 30,
     "metadata": {},
     "output_type": "execute_result"
    }
   ],
   "source": [
    "df_cross.sort_index(inplace = True)\n",
    "# Order column based on list cats and index by cats_month\n",
    "df_cross[cats].reindex(cats_month.values())"
   ]
  },
  {
   "cell_type": "markdown",
   "metadata": {},
   "source": [
    "<h2>5 Pre Processing - Standarization</h2>"
   ]
  },
  {
   "cell_type": "markdown",
   "metadata": {},
   "source": [
    "<h3>5.1 Min-Max Scaler</h3>"
   ]
  },
  {
   "cell_type": "code",
   "execution_count": 64,
   "metadata": {
    "ExecuteTime": {
     "end_time": "2019-09-25T03:31:21.055340Z",
     "start_time": "2019-09-25T03:31:21.042341Z"
    }
   },
   "outputs": [
    {
     "name": "stdout",
     "output_type": "stream",
     "text": [
      "['Date' 'Day' 'Temperature' 'Rainfall' 'Flyers' 'Price' 'Sales']\n"
     ]
    }
   ],
   "source": [
    "# Crete duplcate data for applying standarization\n",
    "data_std = data_lemon.copy()\n",
    "print(data_std.columns.values) # Column's names"
   ]
  },
  {
   "cell_type": "code",
   "execution_count": 31,
   "metadata": {
    "ExecuteTime": {
     "end_time": "2019-09-25T03:24:10.717018Z",
     "start_time": "2019-09-25T03:24:10.587455Z"
    },
    "collapsed": true
   },
   "outputs": [],
   "source": [
    "# Create a min max processing object\n",
    "min_max_scaler = preprocessing.MinMaxScaler()"
   ]
  },
  {
   "cell_type": "code",
   "execution_count": 65,
   "metadata": {
    "ExecuteTime": {
     "end_time": "2019-09-25T03:31:48.963320Z",
     "start_time": "2019-09-25T03:31:48.954319Z"
    }
   },
   "outputs": [],
   "source": [
    "# Convert the column value of the dataframe as floats\n",
    "data_std['Temperature'] = data_std['Temperature'].values.astype(float)"
   ]
  },
  {
   "cell_type": "code",
   "execution_count": 67,
   "metadata": {
    "ExecuteTime": {
     "end_time": "2019-09-25T03:32:12.689694Z",
     "start_time": "2019-09-25T03:32:12.679697Z"
    }
   },
   "outputs": [
    {
     "name": "stderr",
     "output_type": "stream",
     "text": [
      "C:\\Users\\user\\Anaconda3\\lib\\site-packages\\sklearn\\preprocessing\\data.py:321: DeprecationWarning: Passing 1d arrays as data is deprecated in 0.17 and will raise ValueError in 0.19. Reshape your data either using X.reshape(-1, 1) if your data has a single feature or X.reshape(1, -1) if it contains a single sample.\n",
      "  warnings.warn(DEPRECATION_MSG_1D, DeprecationWarning)\n",
      "C:\\Users\\user\\Anaconda3\\lib\\site-packages\\sklearn\\preprocessing\\data.py:356: DeprecationWarning: Passing 1d arrays as data is deprecated in 0.17 and will raise ValueError in 0.19. Reshape your data either using X.reshape(-1, 1) if your data has a single feature or X.reshape(1, -1) if it contains a single sample.\n",
      "  warnings.warn(DEPRECATION_MSG_1D, DeprecationWarning)\n"
     ]
    }
   ],
   "source": [
    "data_std['Temperature'] = min_max_scaler.fit_transform(data_std['Temperature'])"
   ]
  },
  {
   "cell_type": "code",
   "execution_count": 68,
   "metadata": {
    "ExecuteTime": {
     "end_time": "2019-09-25T03:32:21.715876Z",
     "start_time": "2019-09-25T03:32:21.687867Z"
    }
   },
   "outputs": [
    {
     "data": {
      "text/plain": [
       "count    365.000000\n",
       "mean       0.519718\n",
       "std        0.184468\n",
       "min        0.000000\n",
       "25%        0.394077\n",
       "50%        0.523918\n",
       "75%        0.640091\n",
       "max        1.000000\n",
       "Name: Temperature, dtype: float64"
      ]
     },
     "execution_count": 68,
     "metadata": {},
     "output_type": "execute_result"
    }
   ],
   "source": [
    "data_std['Temperature'].describe() # Summary of statistics"
   ]
  },
  {
   "cell_type": "markdown",
   "metadata": {},
   "source": [
    "<h3>5.2 Normalization</h3>"
   ]
  },
  {
   "cell_type": "code",
   "execution_count": 69,
   "metadata": {
    "ExecuteTime": {
     "end_time": "2019-09-25T03:33:41.522605Z",
     "start_time": "2019-09-25T03:33:41.510607Z"
    },
    "collapsed": true
   },
   "outputs": [],
   "source": [
    "data_std['Rainfall'] = (data_std['Rainfall'] - data_std['Rainfall'].mean())/data_std['Rainfall'].std()"
   ]
  },
  {
   "cell_type": "code",
   "execution_count": 70,
   "metadata": {
    "ExecuteTime": {
     "end_time": "2019-09-25T03:34:12.365677Z",
     "start_time": "2019-09-25T03:34:12.338679Z"
    }
   },
   "outputs": [
    {
     "data": {
      "text/plain": [
       "count    3.650000e+02\n",
       "mean    -2.355498e-15\n",
       "std      1.000000e+00\n",
       "min     -1.305419e+00\n",
       "25%     -6.464911e-01\n",
       "50%     -3.170274e-01\n",
       "75%      3.052930e-01\n",
       "max      6.125819e+00\n",
       "Name: Rainfall, dtype: float64"
      ]
     },
     "execution_count": 70,
     "metadata": {},
     "output_type": "execute_result"
    }
   ],
   "source": [
    "data_std['Rainfall'].describe() # Summary of statistics"
   ]
  },
  {
   "cell_type": "markdown",
   "metadata": {},
   "source": [
    "<h2>6 Slicing, Filtering, and Subsetting Data</h2>"
   ]
  },
  {
   "cell_type": "code",
   "execution_count": 35,
   "metadata": {
    "ExecuteTime": {
     "end_time": "2019-09-25T03:24:11.652730Z",
     "start_time": "2019-09-25T03:24:11.524753Z"
    }
   },
   "outputs": [
    {
     "data": {
      "text/html": [
       "<div>\n",
       "<style>\n",
       "    .dataframe thead tr:only-child th {\n",
       "        text-align: right;\n",
       "    }\n",
       "\n",
       "    .dataframe thead th {\n",
       "        text-align: left;\n",
       "    }\n",
       "\n",
       "    .dataframe tbody tr th {\n",
       "        vertical-align: top;\n",
       "    }\n",
       "</style>\n",
       "<table border=\"1\" class=\"dataframe\">\n",
       "  <thead>\n",
       "    <tr style=\"text-align: right;\">\n",
       "      <th></th>\n",
       "      <th>Tanggal</th>\n",
       "      <th>Bulan</th>\n",
       "      <th>Hari</th>\n",
       "      <th>Suhu</th>\n",
       "      <th>Rainfall</th>\n",
       "      <th>Leaflet</th>\n",
       "      <th>Harga</th>\n",
       "      <th>Penjualan</th>\n",
       "      <th>Pendapatan</th>\n",
       "    </tr>\n",
       "  </thead>\n",
       "  <tbody>\n",
       "    <tr>\n",
       "      <th>0</th>\n",
       "      <td>2017-01-01</td>\n",
       "      <td>January</td>\n",
       "      <td>Sunday</td>\n",
       "      <td>0.135535</td>\n",
       "      <td>2.00</td>\n",
       "      <td>15</td>\n",
       "      <td>0.3</td>\n",
       "      <td>10</td>\n",
       "      <td>3.0</td>\n",
       "    </tr>\n",
       "    <tr>\n",
       "      <th>1</th>\n",
       "      <td>2017-01-02</td>\n",
       "      <td>January</td>\n",
       "      <td>Monday</td>\n",
       "      <td>0.157175</td>\n",
       "      <td>1.33</td>\n",
       "      <td>15</td>\n",
       "      <td>0.3</td>\n",
       "      <td>13</td>\n",
       "      <td>3.9</td>\n",
       "    </tr>\n",
       "    <tr>\n",
       "      <th>2</th>\n",
       "      <td>2017-01-03</td>\n",
       "      <td>January</td>\n",
       "      <td>Tuesday</td>\n",
       "      <td>0.220957</td>\n",
       "      <td>1.33</td>\n",
       "      <td>27</td>\n",
       "      <td>0.3</td>\n",
       "      <td>15</td>\n",
       "      <td>4.5</td>\n",
       "    </tr>\n",
       "    <tr>\n",
       "      <th>3</th>\n",
       "      <td>2017-01-04</td>\n",
       "      <td>January</td>\n",
       "      <td>Wednesday</td>\n",
       "      <td>0.330296</td>\n",
       "      <td>1.05</td>\n",
       "      <td>28</td>\n",
       "      <td>0.3</td>\n",
       "      <td>17</td>\n",
       "      <td>5.1</td>\n",
       "    </tr>\n",
       "    <tr>\n",
       "      <th>4</th>\n",
       "      <td>2017-01-05</td>\n",
       "      <td>January</td>\n",
       "      <td>Thursday</td>\n",
       "      <td>0.310934</td>\n",
       "      <td>1.00</td>\n",
       "      <td>33</td>\n",
       "      <td>0.3</td>\n",
       "      <td>18</td>\n",
       "      <td>5.4</td>\n",
       "    </tr>\n",
       "  </tbody>\n",
       "</table>\n",
       "</div>"
      ],
      "text/plain": [
       "     Tanggal    Bulan       Hari      Suhu  Rainfall  Leaflet  Harga  \\\n",
       "0 2017-01-01  January     Sunday  0.135535      2.00       15    0.3   \n",
       "1 2017-01-02  January     Monday  0.157175      1.33       15    0.3   \n",
       "2 2017-01-03  January    Tuesday  0.220957      1.33       27    0.3   \n",
       "3 2017-01-04  January  Wednesday  0.330296      1.05       28    0.3   \n",
       "4 2017-01-05  January   Thursday  0.310934      1.00       33    0.3   \n",
       "\n",
       "   Penjualan  Pendapatan  \n",
       "0         10         3.0  \n",
       "1         13         3.9  \n",
       "2         15         4.5  \n",
       "3         17         5.1  \n",
       "4         18         5.4  "
      ]
     },
     "execution_count": 35,
     "metadata": {},
     "output_type": "execute_result"
    }
   ],
   "source": [
    "data_filter = data_lemon.copy()\n",
    "data_filter.head()"
   ]
  },
  {
   "cell_type": "code",
   "execution_count": 36,
   "metadata": {
    "ExecuteTime": {
     "end_time": "2019-09-25T03:24:11.793735Z",
     "start_time": "2019-09-25T03:24:11.662734Z"
    }
   },
   "outputs": [
    {
     "name": "stdout",
     "output_type": "stream",
     "text": [
      "<class 'pandas.core.frame.DataFrame'>\n",
      "RangeIndex: 365 entries, 0 to 364\n",
      "Data columns (total 9 columns):\n",
      "Tanggal       365 non-null datetime64[ns]\n",
      "Bulan         365 non-null object\n",
      "Hari          365 non-null object\n",
      "Suhu          365 non-null float64\n",
      "Rainfall      365 non-null float64\n",
      "Leaflet       365 non-null int64\n",
      "Harga         365 non-null float64\n",
      "Penjualan     365 non-null int64\n",
      "Pendapatan    365 non-null float64\n",
      "dtypes: datetime64[ns](1), float64(4), int64(2), object(2)\n",
      "memory usage: 25.7+ KB\n"
     ]
    }
   ],
   "source": [
    "data_filter.info()"
   ]
  },
  {
   "cell_type": "markdown",
   "metadata": {
    "collapsed": true
   },
   "source": [
    "<h3>6.1 Set Date Column as Index</h3>"
   ]
  },
  {
   "cell_type": "code",
   "execution_count": 37,
   "metadata": {
    "ExecuteTime": {
     "end_time": "2019-09-25T03:24:11.939727Z",
     "start_time": "2019-09-25T03:24:11.800734Z"
    },
    "collapsed": true
   },
   "outputs": [],
   "source": [
    "data_filter.set_index('Tanggal',inplace = True) # Inplace means we set index permanently to daata_filter"
   ]
  },
  {
   "cell_type": "code",
   "execution_count": 38,
   "metadata": {
    "ExecuteTime": {
     "end_time": "2019-09-25T03:24:12.172727Z",
     "start_time": "2019-09-25T03:24:11.944733Z"
    }
   },
   "outputs": [
    {
     "data": {
      "text/html": [
       "<div>\n",
       "<style>\n",
       "    .dataframe thead tr:only-child th {\n",
       "        text-align: right;\n",
       "    }\n",
       "\n",
       "    .dataframe thead th {\n",
       "        text-align: left;\n",
       "    }\n",
       "\n",
       "    .dataframe tbody tr th {\n",
       "        vertical-align: top;\n",
       "    }\n",
       "</style>\n",
       "<table border=\"1\" class=\"dataframe\">\n",
       "  <thead>\n",
       "    <tr style=\"text-align: right;\">\n",
       "      <th></th>\n",
       "      <th>Bulan</th>\n",
       "      <th>Hari</th>\n",
       "      <th>Suhu</th>\n",
       "      <th>Rainfall</th>\n",
       "      <th>Leaflet</th>\n",
       "      <th>Harga</th>\n",
       "      <th>Penjualan</th>\n",
       "      <th>Pendapatan</th>\n",
       "    </tr>\n",
       "    <tr>\n",
       "      <th>Tanggal</th>\n",
       "      <th></th>\n",
       "      <th></th>\n",
       "      <th></th>\n",
       "      <th></th>\n",
       "      <th></th>\n",
       "      <th></th>\n",
       "      <th></th>\n",
       "      <th></th>\n",
       "    </tr>\n",
       "  </thead>\n",
       "  <tbody>\n",
       "    <tr>\n",
       "      <th>2017-01-01</th>\n",
       "      <td>January</td>\n",
       "      <td>Sunday</td>\n",
       "      <td>0.135535</td>\n",
       "      <td>2.00</td>\n",
       "      <td>15</td>\n",
       "      <td>0.3</td>\n",
       "      <td>10</td>\n",
       "      <td>3.0</td>\n",
       "    </tr>\n",
       "    <tr>\n",
       "      <th>2017-01-02</th>\n",
       "      <td>January</td>\n",
       "      <td>Monday</td>\n",
       "      <td>0.157175</td>\n",
       "      <td>1.33</td>\n",
       "      <td>15</td>\n",
       "      <td>0.3</td>\n",
       "      <td>13</td>\n",
       "      <td>3.9</td>\n",
       "    </tr>\n",
       "    <tr>\n",
       "      <th>2017-01-03</th>\n",
       "      <td>January</td>\n",
       "      <td>Tuesday</td>\n",
       "      <td>0.220957</td>\n",
       "      <td>1.33</td>\n",
       "      <td>27</td>\n",
       "      <td>0.3</td>\n",
       "      <td>15</td>\n",
       "      <td>4.5</td>\n",
       "    </tr>\n",
       "    <tr>\n",
       "      <th>2017-01-04</th>\n",
       "      <td>January</td>\n",
       "      <td>Wednesday</td>\n",
       "      <td>0.330296</td>\n",
       "      <td>1.05</td>\n",
       "      <td>28</td>\n",
       "      <td>0.3</td>\n",
       "      <td>17</td>\n",
       "      <td>5.1</td>\n",
       "    </tr>\n",
       "    <tr>\n",
       "      <th>2017-01-05</th>\n",
       "      <td>January</td>\n",
       "      <td>Thursday</td>\n",
       "      <td>0.310934</td>\n",
       "      <td>1.00</td>\n",
       "      <td>33</td>\n",
       "      <td>0.3</td>\n",
       "      <td>18</td>\n",
       "      <td>5.4</td>\n",
       "    </tr>\n",
       "  </tbody>\n",
       "</table>\n",
       "</div>"
      ],
      "text/plain": [
       "              Bulan       Hari      Suhu  Rainfall  Leaflet  Harga  Penjualan  \\\n",
       "Tanggal                                                                         \n",
       "2017-01-01  January     Sunday  0.135535      2.00       15    0.3         10   \n",
       "2017-01-02  January     Monday  0.157175      1.33       15    0.3         13   \n",
       "2017-01-03  January    Tuesday  0.220957      1.33       27    0.3         15   \n",
       "2017-01-04  January  Wednesday  0.330296      1.05       28    0.3         17   \n",
       "2017-01-05  January   Thursday  0.310934      1.00       33    0.3         18   \n",
       "\n",
       "            Pendapatan  \n",
       "Tanggal                 \n",
       "2017-01-01         3.0  \n",
       "2017-01-02         3.9  \n",
       "2017-01-03         4.5  \n",
       "2017-01-04         5.1  \n",
       "2017-01-05         5.4  "
      ]
     },
     "execution_count": 38,
     "metadata": {},
     "output_type": "execute_result"
    }
   ],
   "source": [
    "data_filter.head()"
   ]
  },
  {
   "cell_type": "markdown",
   "metadata": {},
   "source": [
    "<h3>6.2 Column Selecting</h3>"
   ]
  },
  {
   "cell_type": "code",
   "execution_count": 39,
   "metadata": {
    "ExecuteTime": {
     "end_time": "2019-09-25T03:24:12.458933Z",
     "start_time": "2019-09-25T03:24:12.180727Z"
    }
   },
   "outputs": [
    {
     "data": {
      "text/html": [
       "<div>\n",
       "<style>\n",
       "    .dataframe thead tr:only-child th {\n",
       "        text-align: right;\n",
       "    }\n",
       "\n",
       "    .dataframe thead th {\n",
       "        text-align: left;\n",
       "    }\n",
       "\n",
       "    .dataframe tbody tr th {\n",
       "        vertical-align: top;\n",
       "    }\n",
       "</style>\n",
       "<table border=\"1\" class=\"dataframe\">\n",
       "  <thead>\n",
       "    <tr style=\"text-align: right;\">\n",
       "      <th></th>\n",
       "      <th>Bulan</th>\n",
       "      <th>Hari</th>\n",
       "      <th>Suhu</th>\n",
       "      <th>Penjualan</th>\n",
       "    </tr>\n",
       "    <tr>\n",
       "      <th>Tanggal</th>\n",
       "      <th></th>\n",
       "      <th></th>\n",
       "      <th></th>\n",
       "      <th></th>\n",
       "    </tr>\n",
       "  </thead>\n",
       "  <tbody>\n",
       "    <tr>\n",
       "      <th>2017-01-01</th>\n",
       "      <td>January</td>\n",
       "      <td>Sunday</td>\n",
       "      <td>0.135535</td>\n",
       "      <td>10</td>\n",
       "    </tr>\n",
       "    <tr>\n",
       "      <th>2017-01-02</th>\n",
       "      <td>January</td>\n",
       "      <td>Monday</td>\n",
       "      <td>0.157175</td>\n",
       "      <td>13</td>\n",
       "    </tr>\n",
       "    <tr>\n",
       "      <th>2017-01-03</th>\n",
       "      <td>January</td>\n",
       "      <td>Tuesday</td>\n",
       "      <td>0.220957</td>\n",
       "      <td>15</td>\n",
       "    </tr>\n",
       "    <tr>\n",
       "      <th>2017-01-04</th>\n",
       "      <td>January</td>\n",
       "      <td>Wednesday</td>\n",
       "      <td>0.330296</td>\n",
       "      <td>17</td>\n",
       "    </tr>\n",
       "    <tr>\n",
       "      <th>2017-01-05</th>\n",
       "      <td>January</td>\n",
       "      <td>Thursday</td>\n",
       "      <td>0.310934</td>\n",
       "      <td>18</td>\n",
       "    </tr>\n",
       "  </tbody>\n",
       "</table>\n",
       "</div>"
      ],
      "text/plain": [
       "              Bulan       Hari      Suhu  Penjualan\n",
       "Tanggal                                            \n",
       "2017-01-01  January     Sunday  0.135535         10\n",
       "2017-01-02  January     Monday  0.157175         13\n",
       "2017-01-03  January    Tuesday  0.220957         15\n",
       "2017-01-04  January  Wednesday  0.330296         17\n",
       "2017-01-05  January   Thursday  0.310934         18"
      ]
     },
     "execution_count": 39,
     "metadata": {},
     "output_type": "execute_result"
    }
   ],
   "source": [
    "data_filter[['Bulan','Hari','Suhu','Penjualan']].head()"
   ]
  },
  {
   "cell_type": "markdown",
   "metadata": {},
   "source": [
    "<h3>6.3 LOC and ILOC for Selection Data</h3>"
   ]
  },
  {
   "cell_type": "code",
   "execution_count": 40,
   "metadata": {
    "ExecuteTime": {
     "end_time": "2019-09-25T03:24:12.626931Z",
     "start_time": "2019-09-25T03:24:12.465933Z"
    }
   },
   "outputs": [
    {
     "data": {
      "text/plain": [
       "Bulan          January\n",
       "Hari            Sunday\n",
       "Suhu          0.135535\n",
       "Rainfall             2\n",
       "Leaflet             15\n",
       "Harga              0.3\n",
       "Penjualan           10\n",
       "Pendapatan           3\n",
       "Name: 2017-01-01 00:00:00, dtype: object"
      ]
     },
     "execution_count": 40,
     "metadata": {},
     "output_type": "execute_result"
    }
   ],
   "source": [
    "data_filter.loc['2017-01-01'] # Can be a list of index"
   ]
  },
  {
   "cell_type": "code",
   "execution_count": 41,
   "metadata": {
    "ExecuteTime": {
     "end_time": "2019-09-25T03:24:13.375701Z",
     "start_time": "2019-09-25T03:24:12.642928Z"
    }
   },
   "outputs": [
    {
     "data": {
      "text/plain": [
       "Hari          Sunday\n",
       "Leaflet           15\n",
       "Penjualan         10\n",
       "Pendapatan         3\n",
       "Name: 2017-01-01 00:00:00, dtype: object"
      ]
     },
     "execution_count": 41,
     "metadata": {},
     "output_type": "execute_result"
    }
   ],
   "source": [
    "data_filter.loc['2017-01-01',['Hari','Leaflet','Penjualan','Pendapatan']]"
   ]
  },
  {
   "cell_type": "code",
   "execution_count": 42,
   "metadata": {
    "ExecuteTime": {
     "end_time": "2019-09-25T03:24:13.705698Z",
     "start_time": "2019-09-25T03:24:13.389707Z"
    }
   },
   "outputs": [
    {
     "data": {
      "text/html": [
       "<div>\n",
       "<style>\n",
       "    .dataframe thead tr:only-child th {\n",
       "        text-align: right;\n",
       "    }\n",
       "\n",
       "    .dataframe thead th {\n",
       "        text-align: left;\n",
       "    }\n",
       "\n",
       "    .dataframe tbody tr th {\n",
       "        vertical-align: top;\n",
       "    }\n",
       "</style>\n",
       "<table border=\"1\" class=\"dataframe\">\n",
       "  <thead>\n",
       "    <tr style=\"text-align: right;\">\n",
       "      <th></th>\n",
       "      <th>Hari</th>\n",
       "      <th>Leaflet</th>\n",
       "      <th>Penjualan</th>\n",
       "      <th>Pendapatan</th>\n",
       "    </tr>\n",
       "    <tr>\n",
       "      <th>Tanggal</th>\n",
       "      <th></th>\n",
       "      <th></th>\n",
       "      <th></th>\n",
       "      <th></th>\n",
       "    </tr>\n",
       "  </thead>\n",
       "  <tbody>\n",
       "    <tr>\n",
       "      <th>2017-01-02</th>\n",
       "      <td>Monday</td>\n",
       "      <td>15</td>\n",
       "      <td>13</td>\n",
       "      <td>3.9</td>\n",
       "    </tr>\n",
       "    <tr>\n",
       "      <th>2017-01-03</th>\n",
       "      <td>Tuesday</td>\n",
       "      <td>27</td>\n",
       "      <td>15</td>\n",
       "      <td>4.5</td>\n",
       "    </tr>\n",
       "    <tr>\n",
       "      <th>2017-01-04</th>\n",
       "      <td>Wednesday</td>\n",
       "      <td>28</td>\n",
       "      <td>17</td>\n",
       "      <td>5.1</td>\n",
       "    </tr>\n",
       "    <tr>\n",
       "      <th>2017-01-05</th>\n",
       "      <td>Thursday</td>\n",
       "      <td>33</td>\n",
       "      <td>18</td>\n",
       "      <td>5.4</td>\n",
       "    </tr>\n",
       "    <tr>\n",
       "      <th>2017-01-06</th>\n",
       "      <td>Friday</td>\n",
       "      <td>23</td>\n",
       "      <td>11</td>\n",
       "      <td>3.3</td>\n",
       "    </tr>\n",
       "    <tr>\n",
       "      <th>2017-01-07</th>\n",
       "      <td>Saturday</td>\n",
       "      <td>19</td>\n",
       "      <td>13</td>\n",
       "      <td>3.9</td>\n",
       "    </tr>\n",
       "  </tbody>\n",
       "</table>\n",
       "</div>"
      ],
      "text/plain": [
       "                 Hari  Leaflet  Penjualan  Pendapatan\n",
       "Tanggal                                              \n",
       "2017-01-02     Monday       15         13         3.9\n",
       "2017-01-03    Tuesday       27         15         4.5\n",
       "2017-01-04  Wednesday       28         17         5.1\n",
       "2017-01-05   Thursday       33         18         5.4\n",
       "2017-01-06     Friday       23         11         3.3\n",
       "2017-01-07   Saturday       19         13         3.9"
      ]
     },
     "execution_count": 42,
     "metadata": {},
     "output_type": "execute_result"
    }
   ],
   "source": [
    "data_filter.iloc[[1,2,3,4,5,6],[1,4,6,7]] # Numeric"
   ]
  },
  {
   "cell_type": "markdown",
   "metadata": {},
   "source": [
    "<h3>6.4 Filtering Dataframe</h3>"
   ]
  },
  {
   "cell_type": "markdown",
   "metadata": {},
   "source": [
    "<h4>6.4.1 Sample 1 - One Condition</h4>"
   ]
  },
  {
   "cell_type": "code",
   "execution_count": 43,
   "metadata": {
    "ExecuteTime": {
     "end_time": "2019-09-25T03:24:13.958443Z",
     "start_time": "2019-09-25T03:24:13.722698Z"
    },
    "collapsed": true
   },
   "outputs": [],
   "source": [
    "# Our filter\n",
    "monday_index = data_filter.Hari == 'Monday'"
   ]
  },
  {
   "cell_type": "code",
   "execution_count": 44,
   "metadata": {
    "ExecuteTime": {
     "end_time": "2019-09-25T03:24:14.146683Z",
     "start_time": "2019-09-25T03:24:13.967443Z"
    }
   },
   "outputs": [
    {
     "name": "stdout",
     "output_type": "stream",
     "text": [
      "Data type:  <class 'pandas.core.series.Series'> \n",
      " Length of variable:  365\n"
     ]
    }
   ],
   "source": [
    "# Print the type of variable 'monday_filter' and length\n",
    "print('Data type: ',type(monday_index),'\\n Length of variable: ',len(monday_index))"
   ]
  },
  {
   "cell_type": "code",
   "execution_count": 45,
   "metadata": {
    "ExecuteTime": {
     "end_time": "2019-09-25T03:24:14.320719Z",
     "start_time": "2019-09-25T03:24:14.154682Z"
    }
   },
   "outputs": [
    {
     "data": {
      "text/html": [
       "<div>\n",
       "<style>\n",
       "    .dataframe thead tr:only-child th {\n",
       "        text-align: right;\n",
       "    }\n",
       "\n",
       "    .dataframe thead th {\n",
       "        text-align: left;\n",
       "    }\n",
       "\n",
       "    .dataframe tbody tr th {\n",
       "        vertical-align: top;\n",
       "    }\n",
       "</style>\n",
       "<table border=\"1\" class=\"dataframe\">\n",
       "  <thead>\n",
       "    <tr style=\"text-align: right;\">\n",
       "      <th></th>\n",
       "      <th>Bulan</th>\n",
       "      <th>Hari</th>\n",
       "      <th>Suhu</th>\n",
       "      <th>Rainfall</th>\n",
       "      <th>Leaflet</th>\n",
       "      <th>Harga</th>\n",
       "      <th>Penjualan</th>\n",
       "      <th>Pendapatan</th>\n",
       "    </tr>\n",
       "    <tr>\n",
       "      <th>Tanggal</th>\n",
       "      <th></th>\n",
       "      <th></th>\n",
       "      <th></th>\n",
       "      <th></th>\n",
       "      <th></th>\n",
       "      <th></th>\n",
       "      <th></th>\n",
       "      <th></th>\n",
       "    </tr>\n",
       "  </thead>\n",
       "  <tbody>\n",
       "    <tr>\n",
       "      <th>2017-01-02</th>\n",
       "      <td>January</td>\n",
       "      <td>Monday</td>\n",
       "      <td>0.157175</td>\n",
       "      <td>1.33</td>\n",
       "      <td>15</td>\n",
       "      <td>0.3</td>\n",
       "      <td>13</td>\n",
       "      <td>3.9</td>\n",
       "    </tr>\n",
       "    <tr>\n",
       "      <th>2017-01-09</th>\n",
       "      <td>January</td>\n",
       "      <td>Monday</td>\n",
       "      <td>0.261959</td>\n",
       "      <td>1.18</td>\n",
       "      <td>20</td>\n",
       "      <td>0.3</td>\n",
       "      <td>17</td>\n",
       "      <td>5.1</td>\n",
       "    </tr>\n",
       "    <tr>\n",
       "      <th>2017-01-16</th>\n",
       "      <td>January</td>\n",
       "      <td>Monday</td>\n",
       "      <td>0.176538</td>\n",
       "      <td>1.67</td>\n",
       "      <td>24</td>\n",
       "      <td>0.3</td>\n",
       "      <td>12</td>\n",
       "      <td>3.6</td>\n",
       "    </tr>\n",
       "    <tr>\n",
       "      <th>2017-01-23</th>\n",
       "      <td>January</td>\n",
       "      <td>Monday</td>\n",
       "      <td>0.261959</td>\n",
       "      <td>1.05</td>\n",
       "      <td>21</td>\n",
       "      <td>0.3</td>\n",
       "      <td>17</td>\n",
       "      <td>5.1</td>\n",
       "    </tr>\n",
       "    <tr>\n",
       "      <th>2017-01-30</th>\n",
       "      <td>January</td>\n",
       "      <td>Monday</td>\n",
       "      <td>0.296128</td>\n",
       "      <td>1.05</td>\n",
       "      <td>20</td>\n",
       "      <td>0.3</td>\n",
       "      <td>17</td>\n",
       "      <td>5.1</td>\n",
       "    </tr>\n",
       "  </tbody>\n",
       "</table>\n",
       "</div>"
      ],
      "text/plain": [
       "              Bulan    Hari      Suhu  Rainfall  Leaflet  Harga  Penjualan  \\\n",
       "Tanggal                                                                      \n",
       "2017-01-02  January  Monday  0.157175      1.33       15    0.3         13   \n",
       "2017-01-09  January  Monday  0.261959      1.18       20    0.3         17   \n",
       "2017-01-16  January  Monday  0.176538      1.67       24    0.3         12   \n",
       "2017-01-23  January  Monday  0.261959      1.05       21    0.3         17   \n",
       "2017-01-30  January  Monday  0.296128      1.05       20    0.3         17   \n",
       "\n",
       "            Pendapatan  \n",
       "Tanggal                 \n",
       "2017-01-02         3.9  \n",
       "2017-01-09         5.1  \n",
       "2017-01-16         3.6  \n",
       "2017-01-23         5.1  \n",
       "2017-01-30         5.1  "
      ]
     },
     "execution_count": 45,
     "metadata": {},
     "output_type": "execute_result"
    }
   ],
   "source": [
    "data_filter[monday_index].head()"
   ]
  },
  {
   "cell_type": "code",
   "execution_count": 46,
   "metadata": {
    "ExecuteTime": {
     "end_time": "2019-09-25T03:24:14.457677Z",
     "start_time": "2019-09-25T03:24:14.329691Z"
    }
   },
   "outputs": [
    {
     "data": {
      "text/plain": [
       "array(['Monday'], dtype=object)"
      ]
     },
     "execution_count": 46,
     "metadata": {},
     "output_type": "execute_result"
    }
   ],
   "source": [
    "data_filter[monday_index]['Hari'].unique() # It make us sure with filter we want"
   ]
  },
  {
   "cell_type": "markdown",
   "metadata": {},
   "source": [
    "<h4>6.4.2 Sample 2 - Multiple Conditions</h4>"
   ]
  },
  {
   "cell_type": "code",
   "execution_count": 47,
   "metadata": {
    "ExecuteTime": {
     "end_time": "2019-09-25T03:24:14.609800Z",
     "start_time": "2019-09-25T03:24:14.466678Z"
    },
    "collapsed": true
   },
   "outputs": [],
   "source": [
    "# Our filter\n",
    "monday_index = data_filter.Hari == 'Monday'\n",
    "sales_index = data_filter.Penjualan > 15"
   ]
  },
  {
   "cell_type": "code",
   "execution_count": 48,
   "metadata": {
    "ExecuteTime": {
     "end_time": "2019-09-25T03:24:14.715637Z",
     "start_time": "2019-09-25T03:24:14.617800Z"
    },
    "collapsed": true
   },
   "outputs": [],
   "source": [
    "# Operator & for 'and', | for 'or', ~ for 'not'\n",
    "monday_sales_index = monday_index & sales_index"
   ]
  },
  {
   "cell_type": "code",
   "execution_count": 49,
   "metadata": {
    "ExecuteTime": {
     "end_time": "2019-09-25T03:24:14.880632Z",
     "start_time": "2019-09-25T03:24:14.722635Z"
    },
    "collapsed": true
   },
   "outputs": [],
   "source": [
    "data_monday_sales = data_filter[monday_sales_index]"
   ]
  },
  {
   "cell_type": "code",
   "execution_count": 50,
   "metadata": {
    "ExecuteTime": {
     "end_time": "2019-09-25T03:24:15.041642Z",
     "start_time": "2019-09-25T03:24:14.888660Z"
    }
   },
   "outputs": [
    {
     "name": "stdout",
     "output_type": "stream",
     "text": [
      "count    47.000000\n",
      "mean     26.765957\n",
      "std       6.175734\n",
      "min      17.000000\n",
      "25%      23.000000\n",
      "50%      26.000000\n",
      "75%      30.000000\n",
      "max      42.000000\n",
      "Name: Penjualan, dtype: float64\n",
      "Unique Date:  ['Monday']\n"
     ]
    }
   ],
   "source": [
    "print(data_monday_sales['Penjualan'].describe())\n",
    "print('Unique Date: ',data_monday_sales['Hari'].unique())"
   ]
  },
  {
   "cell_type": "markdown",
   "metadata": {},
   "source": [
    "<h4>6.4.3 Data Selection in One Line</h4>"
   ]
  },
  {
   "cell_type": "code",
   "execution_count": 51,
   "metadata": {
    "ExecuteTime": {
     "end_time": "2019-09-25T03:24:15.220643Z",
     "start_time": "2019-09-25T03:24:15.052634Z"
    }
   },
   "outputs": [
    {
     "data": {
      "text/html": [
       "<div>\n",
       "<style>\n",
       "    .dataframe thead tr:only-child th {\n",
       "        text-align: right;\n",
       "    }\n",
       "\n",
       "    .dataframe thead th {\n",
       "        text-align: left;\n",
       "    }\n",
       "\n",
       "    .dataframe tbody tr th {\n",
       "        vertical-align: top;\n",
       "    }\n",
       "</style>\n",
       "<table border=\"1\" class=\"dataframe\">\n",
       "  <thead>\n",
       "    <tr style=\"text-align: right;\">\n",
       "      <th></th>\n",
       "      <th>Bulan</th>\n",
       "      <th>Hari</th>\n",
       "      <th>Suhu</th>\n",
       "      <th>Rainfall</th>\n",
       "      <th>Leaflet</th>\n",
       "      <th>Harga</th>\n",
       "      <th>Penjualan</th>\n",
       "      <th>Pendapatan</th>\n",
       "    </tr>\n",
       "    <tr>\n",
       "      <th>Tanggal</th>\n",
       "      <th></th>\n",
       "      <th></th>\n",
       "      <th></th>\n",
       "      <th></th>\n",
       "      <th></th>\n",
       "      <th></th>\n",
       "      <th></th>\n",
       "      <th></th>\n",
       "    </tr>\n",
       "  </thead>\n",
       "  <tbody>\n",
       "    <tr>\n",
       "      <th>2017-01-02</th>\n",
       "      <td>January</td>\n",
       "      <td>Monday</td>\n",
       "      <td>0.157175</td>\n",
       "      <td>1.33</td>\n",
       "      <td>15</td>\n",
       "      <td>0.3</td>\n",
       "      <td>13</td>\n",
       "      <td>3.9</td>\n",
       "    </tr>\n",
       "    <tr>\n",
       "      <th>2017-01-09</th>\n",
       "      <td>January</td>\n",
       "      <td>Monday</td>\n",
       "      <td>0.261959</td>\n",
       "      <td>1.18</td>\n",
       "      <td>20</td>\n",
       "      <td>0.3</td>\n",
       "      <td>17</td>\n",
       "      <td>5.1</td>\n",
       "    </tr>\n",
       "    <tr>\n",
       "      <th>2017-01-16</th>\n",
       "      <td>January</td>\n",
       "      <td>Monday</td>\n",
       "      <td>0.176538</td>\n",
       "      <td>1.67</td>\n",
       "      <td>24</td>\n",
       "      <td>0.3</td>\n",
       "      <td>12</td>\n",
       "      <td>3.6</td>\n",
       "    </tr>\n",
       "    <tr>\n",
       "      <th>2017-01-23</th>\n",
       "      <td>January</td>\n",
       "      <td>Monday</td>\n",
       "      <td>0.261959</td>\n",
       "      <td>1.05</td>\n",
       "      <td>21</td>\n",
       "      <td>0.3</td>\n",
       "      <td>17</td>\n",
       "      <td>5.1</td>\n",
       "    </tr>\n",
       "    <tr>\n",
       "      <th>2017-01-30</th>\n",
       "      <td>January</td>\n",
       "      <td>Monday</td>\n",
       "      <td>0.296128</td>\n",
       "      <td>1.05</td>\n",
       "      <td>20</td>\n",
       "      <td>0.3</td>\n",
       "      <td>17</td>\n",
       "      <td>5.1</td>\n",
       "    </tr>\n",
       "  </tbody>\n",
       "</table>\n",
       "</div>"
      ],
      "text/plain": [
       "              Bulan    Hari      Suhu  Rainfall  Leaflet  Harga  Penjualan  \\\n",
       "Tanggal                                                                      \n",
       "2017-01-02  January  Monday  0.157175      1.33       15    0.3         13   \n",
       "2017-01-09  January  Monday  0.261959      1.18       20    0.3         17   \n",
       "2017-01-16  January  Monday  0.176538      1.67       24    0.3         12   \n",
       "2017-01-23  January  Monday  0.261959      1.05       21    0.3         17   \n",
       "2017-01-30  January  Monday  0.296128      1.05       20    0.3         17   \n",
       "\n",
       "            Pendapatan  \n",
       "Tanggal                 \n",
       "2017-01-02         3.9  \n",
       "2017-01-09         5.1  \n",
       "2017-01-16         3.6  \n",
       "2017-01-23         5.1  \n",
       "2017-01-30         5.1  "
      ]
     },
     "execution_count": 51,
     "metadata": {},
     "output_type": "execute_result"
    }
   ],
   "source": [
    "data_filter[data_filter.Hari == 'Monday'].head() # Same with 6.4.1"
   ]
  },
  {
   "cell_type": "code",
   "execution_count": 52,
   "metadata": {
    "ExecuteTime": {
     "end_time": "2019-09-25T03:24:15.368627Z",
     "start_time": "2019-09-25T03:24:15.229633Z"
    }
   },
   "outputs": [
    {
     "data": {
      "text/html": [
       "<div>\n",
       "<style>\n",
       "    .dataframe thead tr:only-child th {\n",
       "        text-align: right;\n",
       "    }\n",
       "\n",
       "    .dataframe thead th {\n",
       "        text-align: left;\n",
       "    }\n",
       "\n",
       "    .dataframe tbody tr th {\n",
       "        vertical-align: top;\n",
       "    }\n",
       "</style>\n",
       "<table border=\"1\" class=\"dataframe\">\n",
       "  <thead>\n",
       "    <tr style=\"text-align: right;\">\n",
       "      <th></th>\n",
       "      <th>Bulan</th>\n",
       "      <th>Hari</th>\n",
       "      <th>Suhu</th>\n",
       "      <th>Rainfall</th>\n",
       "      <th>Leaflet</th>\n",
       "      <th>Harga</th>\n",
       "      <th>Penjualan</th>\n",
       "      <th>Pendapatan</th>\n",
       "    </tr>\n",
       "    <tr>\n",
       "      <th>Tanggal</th>\n",
       "      <th></th>\n",
       "      <th></th>\n",
       "      <th></th>\n",
       "      <th></th>\n",
       "      <th></th>\n",
       "      <th></th>\n",
       "      <th></th>\n",
       "      <th></th>\n",
       "    </tr>\n",
       "  </thead>\n",
       "  <tbody>\n",
       "    <tr>\n",
       "      <th>2017-01-09</th>\n",
       "      <td>January</td>\n",
       "      <td>Monday</td>\n",
       "      <td>0.261959</td>\n",
       "      <td>1.18</td>\n",
       "      <td>20</td>\n",
       "      <td>0.3</td>\n",
       "      <td>17</td>\n",
       "      <td>5.1</td>\n",
       "    </tr>\n",
       "    <tr>\n",
       "      <th>2017-01-23</th>\n",
       "      <td>January</td>\n",
       "      <td>Monday</td>\n",
       "      <td>0.261959</td>\n",
       "      <td>1.05</td>\n",
       "      <td>21</td>\n",
       "      <td>0.3</td>\n",
       "      <td>17</td>\n",
       "      <td>5.1</td>\n",
       "    </tr>\n",
       "    <tr>\n",
       "      <th>2017-01-30</th>\n",
       "      <td>January</td>\n",
       "      <td>Monday</td>\n",
       "      <td>0.296128</td>\n",
       "      <td>1.05</td>\n",
       "      <td>20</td>\n",
       "      <td>0.3</td>\n",
       "      <td>17</td>\n",
       "      <td>5.1</td>\n",
       "    </tr>\n",
       "    <tr>\n",
       "      <th>2017-02-06</th>\n",
       "      <td>February</td>\n",
       "      <td>Monday</td>\n",
       "      <td>0.340547</td>\n",
       "      <td>0.95</td>\n",
       "      <td>28</td>\n",
       "      <td>0.3</td>\n",
       "      <td>20</td>\n",
       "      <td>6.0</td>\n",
       "    </tr>\n",
       "    <tr>\n",
       "      <th>2017-02-13</th>\n",
       "      <td>February</td>\n",
       "      <td>Monday</td>\n",
       "      <td>0.356492</td>\n",
       "      <td>1.11</td>\n",
       "      <td>34</td>\n",
       "      <td>0.3</td>\n",
       "      <td>18</td>\n",
       "      <td>5.4</td>\n",
       "    </tr>\n",
       "  </tbody>\n",
       "</table>\n",
       "</div>"
      ],
      "text/plain": [
       "               Bulan    Hari      Suhu  Rainfall  Leaflet  Harga  Penjualan  \\\n",
       "Tanggal                                                                       \n",
       "2017-01-09   January  Monday  0.261959      1.18       20    0.3         17   \n",
       "2017-01-23   January  Monday  0.261959      1.05       21    0.3         17   \n",
       "2017-01-30   January  Monday  0.296128      1.05       20    0.3         17   \n",
       "2017-02-06  February  Monday  0.340547      0.95       28    0.3         20   \n",
       "2017-02-13  February  Monday  0.356492      1.11       34    0.3         18   \n",
       "\n",
       "            Pendapatan  \n",
       "Tanggal                 \n",
       "2017-01-09         5.1  \n",
       "2017-01-23         5.1  \n",
       "2017-01-30         5.1  \n",
       "2017-02-06         6.0  \n",
       "2017-02-13         5.4  "
      ]
     },
     "execution_count": 52,
     "metadata": {},
     "output_type": "execute_result"
    }
   ],
   "source": [
    "data_filter[(data_filter.Hari == 'Monday') & (data_filter.Penjualan > 15)].head() # Same with 6.4.2"
   ]
  },
  {
   "cell_type": "markdown",
   "metadata": {},
   "source": [
    "<h4>6.4.4 Between Method</h4>"
   ]
  },
  {
   "cell_type": "code",
   "execution_count": 53,
   "metadata": {
    "ExecuteTime": {
     "end_time": "2019-09-25T03:24:15.508628Z",
     "start_time": "2019-09-25T03:24:15.375632Z"
    }
   },
   "outputs": [
    {
     "data": {
      "text/html": [
       "<div>\n",
       "<style>\n",
       "    .dataframe thead tr:only-child th {\n",
       "        text-align: right;\n",
       "    }\n",
       "\n",
       "    .dataframe thead th {\n",
       "        text-align: left;\n",
       "    }\n",
       "\n",
       "    .dataframe tbody tr th {\n",
       "        vertical-align: top;\n",
       "    }\n",
       "</style>\n",
       "<table border=\"1\" class=\"dataframe\">\n",
       "  <thead>\n",
       "    <tr style=\"text-align: right;\">\n",
       "      <th></th>\n",
       "      <th>Bulan</th>\n",
       "      <th>Hari</th>\n",
       "      <th>Suhu</th>\n",
       "      <th>Rainfall</th>\n",
       "      <th>Leaflet</th>\n",
       "      <th>Harga</th>\n",
       "      <th>Penjualan</th>\n",
       "      <th>Pendapatan</th>\n",
       "    </tr>\n",
       "    <tr>\n",
       "      <th>Tanggal</th>\n",
       "      <th></th>\n",
       "      <th></th>\n",
       "      <th></th>\n",
       "      <th></th>\n",
       "      <th></th>\n",
       "      <th></th>\n",
       "      <th></th>\n",
       "      <th></th>\n",
       "    </tr>\n",
       "  </thead>\n",
       "  <tbody>\n",
       "    <tr>\n",
       "      <th>2017-01-03</th>\n",
       "      <td>January</td>\n",
       "      <td>Tuesday</td>\n",
       "      <td>0.220957</td>\n",
       "      <td>1.33</td>\n",
       "      <td>27</td>\n",
       "      <td>0.3</td>\n",
       "      <td>15</td>\n",
       "      <td>4.5</td>\n",
       "    </tr>\n",
       "    <tr>\n",
       "      <th>2017-01-04</th>\n",
       "      <td>January</td>\n",
       "      <td>Wednesday</td>\n",
       "      <td>0.330296</td>\n",
       "      <td>1.05</td>\n",
       "      <td>28</td>\n",
       "      <td>0.3</td>\n",
       "      <td>17</td>\n",
       "      <td>5.1</td>\n",
       "    </tr>\n",
       "    <tr>\n",
       "      <th>2017-01-05</th>\n",
       "      <td>January</td>\n",
       "      <td>Thursday</td>\n",
       "      <td>0.310934</td>\n",
       "      <td>1.00</td>\n",
       "      <td>33</td>\n",
       "      <td>0.3</td>\n",
       "      <td>18</td>\n",
       "      <td>5.4</td>\n",
       "    </tr>\n",
       "    <tr>\n",
       "      <th>2017-01-08</th>\n",
       "      <td>January</td>\n",
       "      <td>Sunday</td>\n",
       "      <td>0.255125</td>\n",
       "      <td>1.18</td>\n",
       "      <td>28</td>\n",
       "      <td>0.3</td>\n",
       "      <td>15</td>\n",
       "      <td>4.5</td>\n",
       "    </tr>\n",
       "    <tr>\n",
       "      <th>2017-01-09</th>\n",
       "      <td>January</td>\n",
       "      <td>Monday</td>\n",
       "      <td>0.261959</td>\n",
       "      <td>1.18</td>\n",
       "      <td>20</td>\n",
       "      <td>0.3</td>\n",
       "      <td>17</td>\n",
       "      <td>5.1</td>\n",
       "    </tr>\n",
       "  </tbody>\n",
       "</table>\n",
       "</div>"
      ],
      "text/plain": [
       "              Bulan       Hari      Suhu  Rainfall  Leaflet  Harga  Penjualan  \\\n",
       "Tanggal                                                                         \n",
       "2017-01-03  January    Tuesday  0.220957      1.33       27    0.3         15   \n",
       "2017-01-04  January  Wednesday  0.330296      1.05       28    0.3         17   \n",
       "2017-01-05  January   Thursday  0.310934      1.00       33    0.3         18   \n",
       "2017-01-08  January     Sunday  0.255125      1.18       28    0.3         15   \n",
       "2017-01-09  January     Monday  0.261959      1.18       20    0.3         17   \n",
       "\n",
       "            Pendapatan  \n",
       "Tanggal                 \n",
       "2017-01-03         4.5  \n",
       "2017-01-04         5.1  \n",
       "2017-01-05         5.4  \n",
       "2017-01-08         4.5  \n",
       "2017-01-09         5.1  "
      ]
     },
     "execution_count": 53,
     "metadata": {},
     "output_type": "execute_result"
    }
   ],
   "source": [
    "# Let's say that we want to get all day with sales between 15 and 30 iclusive\n",
    "sales_index_manual = (data_filter.Penjualan >= 15) & (data_filter.Penjualan <= 30)\n",
    "data_filter[sales_index_manual].head()"
   ]
  },
  {
   "cell_type": "code",
   "execution_count": 54,
   "metadata": {
    "ExecuteTime": {
     "end_time": "2019-09-25T03:24:15.650626Z",
     "start_time": "2019-09-25T03:24:15.517629Z"
    }
   },
   "outputs": [
    {
     "name": "stdout",
     "output_type": "stream",
     "text": [
      "<class 'pandas.core.frame.DataFrame'>\n",
      "DatetimeIndex: 259 entries, 2017-01-03 to 2017-12-29\n",
      "Data columns (total 8 columns):\n",
      "Bulan         259 non-null object\n",
      "Hari          259 non-null object\n",
      "Suhu          259 non-null float64\n",
      "Rainfall      259 non-null float64\n",
      "Leaflet       259 non-null int64\n",
      "Harga         259 non-null float64\n",
      "Penjualan     259 non-null int64\n",
      "Pendapatan    259 non-null float64\n",
      "dtypes: float64(4), int64(2), object(2)\n",
      "memory usage: 18.2+ KB\n"
     ]
    }
   ],
   "source": [
    "data_filter[sales_index_manual].info()"
   ]
  },
  {
   "cell_type": "code",
   "execution_count": 55,
   "metadata": {
    "ExecuteTime": {
     "end_time": "2019-09-25T03:24:15.805620Z",
     "start_time": "2019-09-25T03:24:15.659624Z"
    }
   },
   "outputs": [
    {
     "data": {
      "text/html": [
       "<div>\n",
       "<style>\n",
       "    .dataframe thead tr:only-child th {\n",
       "        text-align: right;\n",
       "    }\n",
       "\n",
       "    .dataframe thead th {\n",
       "        text-align: left;\n",
       "    }\n",
       "\n",
       "    .dataframe tbody tr th {\n",
       "        vertical-align: top;\n",
       "    }\n",
       "</style>\n",
       "<table border=\"1\" class=\"dataframe\">\n",
       "  <thead>\n",
       "    <tr style=\"text-align: right;\">\n",
       "      <th></th>\n",
       "      <th>Bulan</th>\n",
       "      <th>Hari</th>\n",
       "      <th>Suhu</th>\n",
       "      <th>Rainfall</th>\n",
       "      <th>Leaflet</th>\n",
       "      <th>Harga</th>\n",
       "      <th>Penjualan</th>\n",
       "      <th>Pendapatan</th>\n",
       "    </tr>\n",
       "    <tr>\n",
       "      <th>Tanggal</th>\n",
       "      <th></th>\n",
       "      <th></th>\n",
       "      <th></th>\n",
       "      <th></th>\n",
       "      <th></th>\n",
       "      <th></th>\n",
       "      <th></th>\n",
       "      <th></th>\n",
       "    </tr>\n",
       "  </thead>\n",
       "  <tbody>\n",
       "    <tr>\n",
       "      <th>2017-01-03</th>\n",
       "      <td>January</td>\n",
       "      <td>Tuesday</td>\n",
       "      <td>0.220957</td>\n",
       "      <td>1.33</td>\n",
       "      <td>27</td>\n",
       "      <td>0.3</td>\n",
       "      <td>15</td>\n",
       "      <td>4.5</td>\n",
       "    </tr>\n",
       "    <tr>\n",
       "      <th>2017-01-04</th>\n",
       "      <td>January</td>\n",
       "      <td>Wednesday</td>\n",
       "      <td>0.330296</td>\n",
       "      <td>1.05</td>\n",
       "      <td>28</td>\n",
       "      <td>0.3</td>\n",
       "      <td>17</td>\n",
       "      <td>5.1</td>\n",
       "    </tr>\n",
       "    <tr>\n",
       "      <th>2017-01-05</th>\n",
       "      <td>January</td>\n",
       "      <td>Thursday</td>\n",
       "      <td>0.310934</td>\n",
       "      <td>1.00</td>\n",
       "      <td>33</td>\n",
       "      <td>0.3</td>\n",
       "      <td>18</td>\n",
       "      <td>5.4</td>\n",
       "    </tr>\n",
       "    <tr>\n",
       "      <th>2017-01-08</th>\n",
       "      <td>January</td>\n",
       "      <td>Sunday</td>\n",
       "      <td>0.255125</td>\n",
       "      <td>1.18</td>\n",
       "      <td>28</td>\n",
       "      <td>0.3</td>\n",
       "      <td>15</td>\n",
       "      <td>4.5</td>\n",
       "    </tr>\n",
       "    <tr>\n",
       "      <th>2017-01-09</th>\n",
       "      <td>January</td>\n",
       "      <td>Monday</td>\n",
       "      <td>0.261959</td>\n",
       "      <td>1.18</td>\n",
       "      <td>20</td>\n",
       "      <td>0.3</td>\n",
       "      <td>17</td>\n",
       "      <td>5.1</td>\n",
       "    </tr>\n",
       "  </tbody>\n",
       "</table>\n",
       "</div>"
      ],
      "text/plain": [
       "              Bulan       Hari      Suhu  Rainfall  Leaflet  Harga  Penjualan  \\\n",
       "Tanggal                                                                         \n",
       "2017-01-03  January    Tuesday  0.220957      1.33       27    0.3         15   \n",
       "2017-01-04  January  Wednesday  0.330296      1.05       28    0.3         17   \n",
       "2017-01-05  January   Thursday  0.310934      1.00       33    0.3         18   \n",
       "2017-01-08  January     Sunday  0.255125      1.18       28    0.3         15   \n",
       "2017-01-09  January     Monday  0.261959      1.18       20    0.3         17   \n",
       "\n",
       "            Pendapatan  \n",
       "Tanggal                 \n",
       "2017-01-03         4.5  \n",
       "2017-01-04         5.1  \n",
       "2017-01-05         5.4  \n",
       "2017-01-08         4.5  \n",
       "2017-01-09         5.1  "
      ]
     },
     "execution_count": 55,
     "metadata": {},
     "output_type": "execute_result"
    }
   ],
   "source": [
    "# With 'between' method\n",
    "sales_index_between = data_filter.Penjualan.between(15,30)\n",
    "data_filter[sales_index_between].head()"
   ]
  },
  {
   "cell_type": "code",
   "execution_count": 56,
   "metadata": {
    "ExecuteTime": {
     "end_time": "2019-09-25T03:24:15.915638Z",
     "start_time": "2019-09-25T03:24:15.813625Z"
    }
   },
   "outputs": [
    {
     "name": "stdout",
     "output_type": "stream",
     "text": [
      "<class 'pandas.core.frame.DataFrame'>\n",
      "DatetimeIndex: 259 entries, 2017-01-03 to 2017-12-29\n",
      "Data columns (total 8 columns):\n",
      "Bulan         259 non-null object\n",
      "Hari          259 non-null object\n",
      "Suhu          259 non-null float64\n",
      "Rainfall      259 non-null float64\n",
      "Leaflet       259 non-null int64\n",
      "Harga         259 non-null float64\n",
      "Penjualan     259 non-null int64\n",
      "Pendapatan    259 non-null float64\n",
      "dtypes: float64(4), int64(2), object(2)\n",
      "memory usage: 18.2+ KB\n"
     ]
    }
   ],
   "source": [
    "data_filter[sales_index_between].info()"
   ]
  },
  {
   "cell_type": "markdown",
   "metadata": {},
   "source": [
    "<h2>7 Export CSV File into Device</h2>"
   ]
  },
  {
   "cell_type": "code",
   "execution_count": 71,
   "metadata": {
    "ExecuteTime": {
     "end_time": "2019-09-25T03:38:33.442157Z",
     "start_time": "2019-09-25T03:38:33.334158Z"
    },
    "collapsed": true
   },
   "outputs": [],
   "source": [
    "data_std.to_csv('Standarization Data.csv',index = False,header = True)"
   ]
  }
 ],
 "metadata": {
  "kernelspec": {
   "display_name": "Python 3",
   "language": "python",
   "name": "python3"
  },
  "language_info": {
   "codemirror_mode": {
    "name": "ipython",
    "version": 3
   },
   "file_extension": ".py",
   "mimetype": "text/x-python",
   "name": "python",
   "nbconvert_exporter": "python",
   "pygments_lexer": "ipython3",
   "version": "3.6.9"
  },
  "toc": {
   "base_numbering": 1,
   "nav_menu": {
    "height": "505px",
    "width": "403px"
   },
   "number_sections": true,
   "sideBar": true,
   "skip_h1_title": false,
   "title_cell": "Table of Contents",
   "title_sidebar": "Contents",
   "toc_cell": false,
   "toc_position": {},
   "toc_section_display": true,
   "toc_window_display": false
  }
 },
 "nbformat": 4,
 "nbformat_minor": 2
}
